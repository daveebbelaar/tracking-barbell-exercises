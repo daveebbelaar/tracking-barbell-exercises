{
 "cells": [
  {
   "cell_type": "markdown",
   "metadata": {},
   "source": [
    "### Mark Hoogendoorn and Burkhardt Funk (2017)              \n",
    "Machine Learning for the Quantified Self               \n",
    "Springer,\n",
    "Chapter 7     "
   ]
  },
  {
   "cell_type": "code",
   "execution_count": 1,
   "metadata": {},
   "outputs": [],
   "source": [
    "from util.VisualizeDataset import VisualizeDataset\n",
    "from Chapter7.PrepareDatasetForLearning import PrepareDatasetForLearning\n",
    "from Chapter7.LearningAlgorithms import ClassificationAlgorithms\n",
    "from Chapter7.LearningAlgorithms import RegressionAlgorithms\n",
    "from Chapter7.Evaluation import ClassificationEvaluation\n",
    "from Chapter7.Evaluation import RegressionEvaluation\n",
    "from Chapter7.FeatureSelection import FeatureSelectionClassification\n",
    "from Chapter7.FeatureSelection import FeatureSelectionRegression\n",
    "import copy\n",
    "import pandas as pd\n",
    "from util import util\n",
    "import matplotlib.pyplot as plot\n",
    "import numpy as np\n",
    "from sklearn.model_selection import train_test_split\n",
    "import os"
   ]
  },
  {
   "cell_type": "code",
   "execution_count": 2,
   "metadata": {},
   "outputs": [
    {
     "name": "stderr",
     "output_type": "stream",
     "text": [
      "C:\\Users\\davee\\Anaconda3\\envs\\ml4qs\\lib\\site-packages\\ipykernel_launcher.py:17: FutureWarning: to_datetime is deprecated. Use pd.to_datetime(...)\n"
     ]
    }
   ],
   "source": [
    "DataViz = VisualizeDataset()\n",
    "\n",
    "# Read the result from the previous chapter, and make sure the index is of the type datetime.\n",
    "\n",
    "dataset_path = 'intermediate_datafiles/'\n",
    "export_tree_path = 'Example_graphs/Chapter7/'\n",
    "\n",
    "try:\n",
    "    dataset = pd.read_csv(dataset_path + 'chapter5_result.csv', index_col=0)\n",
    "except IOError as e:\n",
    "    print('File not found, try to run previous crowdsignals scripts first!')\n",
    "    raise e\n",
    "\n",
    "if not os.path.exists(export_tree_path):\n",
    "    os.makedirs(export_tree_path)\n",
    "\n",
    "dataset.index = dataset.index.to_datetime()"
   ]
  },
  {
   "cell_type": "code",
   "execution_count": 3,
   "metadata": {},
   "outputs": [],
   "source": [
    "del dataset['participant']\n",
    "del dataset['category']\n",
    "del dataset['set']"
   ]
  },
  {
   "cell_type": "code",
   "execution_count": 4,
   "metadata": {},
   "outputs": [
    {
     "name": "stdout",
     "output_type": "stream",
     "text": [
      "Training set length is:  4236\n",
      "Test set length is:  1816\n"
     ]
    }
   ],
   "source": [
    "# Let us consider our first task, namely the prediction of the label. We consider this as a non-temporal task.\n",
    "\n",
    "# We create a single column with the categorical attribute representing our class. Furthermore, we use 70% of our data\n",
    "# for training and the remaining 30% as an independent test set. We select the sets based on stratified sampling. We remove\n",
    "# cases where we do not know the label.\n",
    "\n",
    "prepare = PrepareDatasetForLearning()\n",
    "\n",
    "train_X, test_X, train_y, test_y = prepare.split_single_dataset_classification(dataset, ['label'], 'like', 0.7, filter=True, temporal=False)\n",
    "#train_X, test_X, train_y, test_y = prepare.split_single_dataset_classification(dataset, ['label'], 'like', 0.01, filter=True, temporal=False)\n",
    "\n",
    "print 'Training set length is: ', len(train_X.index)\n",
    "print 'Test set length is: ', len(test_X.index)"
   ]
  },
  {
   "cell_type": "code",
   "execution_count": 5,
   "metadata": {},
   "outputs": [
    {
     "name": "stdout",
     "output_type": "stream",
     "text": [
      "#basic features:  8\n",
      "#PCA features:  3\n",
      "#time features:  16\n",
      "#frequency features:  58\n",
      "#cluster features:  1\n"
     ]
    }
   ],
   "source": [
    "# Select subsets of the features that we will consider:\n",
    "\n",
    "basic_features = ['acc_x','acc_y','acc_z', 'gyr_x','gyr_y','gyr_z', 'acc_r', 'gyr_r']\n",
    "pca_features = ['pca_1','pca_2','pca_3']\n",
    "time_features = [name for name in dataset.columns if '_temp_' in name]\n",
    "freq_features = [name for name in dataset.columns if (('_freq' in name) or ('_pse' in name))]\n",
    "print '#basic features: ', len(basic_features)\n",
    "print '#PCA features: ', len(pca_features)\n",
    "print '#time features: ', len(time_features)\n",
    "print '#frequency features: ', len(freq_features)\n",
    "cluster_features = ['cluster']\n",
    "print '#cluster features: ', len(cluster_features)\n",
    "features_after_chapter_3 = list(set().union(basic_features, pca_features))\n",
    "features_after_chapter_4 = list(set().union(basic_features, pca_features, time_features, freq_features))\n",
    "features_after_chapter_5 = list(set().union(basic_features, pca_features, time_features, freq_features, cluster_features))"
   ]
  },
  {
   "cell_type": "code",
   "execution_count": null,
   "metadata": {
    "scrolled": true
   },
   "outputs": [
    {
     "name": "stdout",
     "output_type": "stream",
     "text": [
      "0\n",
      "1\n",
      "2\n",
      "3\n",
      "4\n",
      "5\n",
      "6\n",
      "7\n",
      "8\n",
      "9\n",
      "10\n",
      "11\n",
      "12\n",
      "13\n",
      "14\n",
      "15\n",
      "16\n",
      "17\n",
      "18\n",
      "19\n",
      "20\n",
      "21\n",
      "22\n",
      "23\n",
      "24\n",
      "25\n",
      "26\n",
      "27\n",
      "28\n",
      "29\n",
      "30\n",
      "31\n",
      "32\n",
      "33\n",
      "34\n",
      "35\n",
      "36\n",
      "37\n",
      "38\n",
      "39\n",
      "40\n",
      "41\n",
      "42\n",
      "43\n",
      "44\n",
      "45\n",
      "46\n",
      "47\n",
      "48\n",
      "49\n",
      "50\n",
      "51\n",
      "52\n",
      "53\n",
      "54\n",
      "55\n",
      "56\n",
      "57\n",
      "58\n"
     ]
    }
   ],
   "source": [
    "# First, let us consider the performance over a selection of features:\n",
    "\n",
    "fs = FeatureSelectionClassification()\n",
    "\n",
    "features, ordered_features, ordered_scores = fs.forward_selection(86, train_X[features_after_chapter_5], train_y)\n",
    "print ordered_scores\n",
    "print ordered_features\n",
    "\n",
    "plot.plot(range(1, 87), ordered_scores)\n",
    "plot.xlabel('number of features')\n",
    "plot.ylabel('accuracy')\n",
    "plot.show()"
   ]
  },
  {
   "cell_type": "code",
   "execution_count": 10,
   "metadata": {},
   "outputs": [
    {
     "data": {
      "text/plain": [
       "['pca_1',\n",
       " 'gyr_r_freq_0.0_Hz_ws_50',\n",
       " 'acc_z',\n",
       " 'acc_y_temp_mean_ws_5',\n",
       " 'acc_x_temp_mean_ws_5',\n",
       " 'acc_y_temp_std_ws_5',\n",
       " 'gyr_r_freq_2.2_Hz_ws_50',\n",
       " 'gyr_r_freq_1.4_Hz_ws_50',\n",
       " 'gyr_r_freq_2.3_Hz_ws_50',\n",
       " 'acc_r_max_freq',\n",
       " 'gyr_r_freq_1.3_Hz_ws_50',\n",
       " 'gyr_z_temp_std_ws_5',\n",
       " 'gyr_r_freq_1.7_Hz_ws_50',\n",
       " 'gyr_r_freq_0.9_Hz_ws_50',\n",
       " 'gyr_r_freq_2.5_Hz_ws_50']"
      ]
     },
     "execution_count": 10,
     "metadata": {},
     "output_type": "execute_result"
    }
   ],
   "source": [
    "ordered_features[:20]"
   ]
  },
  {
   "cell_type": "code",
   "execution_count": 12,
   "metadata": {},
   "outputs": [],
   "source": [
    "selected_features = ordered_features[:10]"
   ]
  },
  {
   "cell_type": "code",
   "execution_count": 13,
   "metadata": {
    "scrolled": true
   },
   "outputs": [
    {
     "name": "stderr",
     "output_type": "stream",
     "text": [
      "C:\\Users\\davee\\Anaconda3\\envs\\ml4qs\\lib\\site-packages\\ipykernel_launcher.py:24: MatplotlibDeprecationWarning: pyplot.hold is deprecated.\n",
      "    Future behavior will be consistent with the long-time default:\n",
      "    plot commands add elements without first clearing the\n",
      "    Axes and/or Figure.\n",
      "C:\\Users\\davee\\Anaconda3\\envs\\ml4qs\\lib\\site-packages\\matplotlib\\__init__.py:910: MatplotlibDeprecationWarning: axes.hold is deprecated. Please remove it from your matplotlibrc and/or style files.\n",
      "  mplDeprecation)\n",
      "C:\\Users\\davee\\Anaconda3\\envs\\ml4qs\\lib\\site-packages\\matplotlib\\rcsetup.py:156: MatplotlibDeprecationWarning: axes.hold is deprecated, will be removed in 3.0\n",
      "  mplDeprecation)\n",
      "C:\\Users\\davee\\Anaconda3\\envs\\ml4qs\\lib\\site-packages\\ipykernel_launcher.py:33: MatplotlibDeprecationWarning: pyplot.hold is deprecated.\n",
      "    Future behavior will be consistent with the long-time default:\n",
      "    plot commands add elements without first clearing the\n",
      "    Axes and/or Figure.\n"
     ]
    },
    {
     "name": "stdout",
     "output_type": "stream",
     "text": [
      "[0.99985207100591711, 0.9999506903353057, 0.99980276134122281, 0.99853714661406967, 0.98872452333990801, 0.89853714661406969]\n",
      "[0.9457055214723924, 0.94823619631901823, 0.94620398773006131, 0.93508435582822069, 0.90417944785276061, 0.85329754601227015]\n"
     ]
    },
    {
     "data": {
      "image/png": "[encoded data removed]",
      "text/plain": [
       "<Figure size 432x288 with 1 Axes>"
      ]
     },
     "metadata": {
      "needs_background": "light"
     },
     "output_type": "display_data"
    }
   ],
   "source": [
    "learner = ClassificationAlgorithms()\n",
    "eval = ClassificationEvaluation()\n",
    "\n",
    "reg_parameters = [0.0001, 0.001, 0.01, 0.1, 1, 10]\n",
    "performance_training = []\n",
    "performance_test = []\n",
    "\n",
    "# We repeat the experiment a number of times to get a bit more robust data as the initialization of the NN is random.\n",
    "\n",
    "repeats = 20\n",
    "\n",
    "for reg_param in reg_parameters:\n",
    "    performance_tr = 0\n",
    "    performance_te = 0\n",
    "    for i in range(0, repeats):\n",
    "        class_train_y, class_test_y, class_train_prob_y, class_test_prob_y = learner.feedforward_neural_network(train_X, train_y,\n",
    "                                                                                                            test_X, hidden_layer_sizes=(250, ), alpha=reg_param, max_iter=500,\n",
    "                                                                                                            gridsearch=False)\n",
    "        performance_tr += eval.accuracy(train_y, class_train_y)\n",
    "        performance_te += eval.accuracy(test_y, class_test_y)\n",
    "    performance_training.append(performance_tr/repeats)\n",
    "    performance_test.append(performance_te/repeats)\n",
    "\n",
    "plot.hold(True)\n",
    "plot.semilogx(reg_parameters, performance_training, 'r-')\n",
    "plot.semilogx(reg_parameters, performance_test, 'b:')\n",
    "print performance_training\n",
    "print performance_test\n",
    "plot.xlabel('regularization parameter value')\n",
    "plot.ylabel('accuracy')\n",
    "plot.ylim([0.95, 1.01])\n",
    "plot.legend(['training', 'test'], loc=4)\n",
    "plot.hold(False)\n",
    "\n",
    "plot.show()"
   ]
  },
  {
   "cell_type": "code",
   "execution_count": 14,
   "metadata": {
    "scrolled": true
   },
   "outputs": [
    {
     "name": "stderr",
     "output_type": "stream",
     "text": [
      "C:\\Users\\davee\\Anaconda3\\envs\\ml4qs\\lib\\site-packages\\ipykernel_launcher.py:13: MatplotlibDeprecationWarning: pyplot.hold is deprecated.\n",
      "    Future behavior will be consistent with the long-time default:\n",
      "    plot commands add elements without first clearing the\n",
      "    Axes and/or Figure.\n",
      "  del sys.path[0]\n",
      "C:\\Users\\davee\\Anaconda3\\envs\\ml4qs\\lib\\site-packages\\ipykernel_launcher.py:19: MatplotlibDeprecationWarning: pyplot.hold is deprecated.\n",
      "    Future behavior will be consistent with the long-time default:\n",
      "    plot commands add elements without first clearing the\n",
      "    Axes and/or Figure.\n"
     ]
    },
    {
     "data": {
      "image/png": "[encoded data removed]",
      "text/plain": [
       "<Figure size 432x288 with 1 Axes>"
      ]
     },
     "metadata": {
      "needs_background": "light"
     },
     "output_type": "display_data"
    }
   ],
   "source": [
    "# Second, let us consider the influence of certain parameter settings (very related to the regulariztion) and study the impact on performance.\n",
    "\n",
    "leaf_settings = [1,2,5,10]\n",
    "performance_training = []\n",
    "performance_test = []\n",
    "\n",
    "for no_points_leaf in leaf_settings:\n",
    "    class_train_y, class_test_y, class_train_prob_y, class_test_prob_y = learner.decision_tree(train_X[selected_features], train_y, test_X[selected_features], min_samples_leaf=no_points_leaf,\n",
    "                                                                                               gridsearch=False, print_model_details=False)\n",
    "    performance_training.append(eval.accuracy(train_y, class_train_y))\n",
    "    performance_test.append(eval.accuracy(test_y, class_test_y))\n",
    "\n",
    "plot.hold(True)\n",
    "plot.plot(leaf_settings, performance_training, 'r-')\n",
    "plot.plot(leaf_settings, performance_test, 'b:')\n",
    "plot.xlabel('minimum number of points per leaf')\n",
    "plot.ylabel('accuracy')\n",
    "plot.legend(['training', 'test'], loc=1)\n",
    "plot.hold(False)\n",
    "\n",
    "plot.show()"
   ]
  },
  {
   "cell_type": "code",
   "execution_count": 14,
   "metadata": {
    "scrolled": true
   },
   "outputs": [
    {
     "ename": "NameError",
     "evalue": "name 'selected_features' is not defined",
     "output_type": "error",
     "traceback": [
      "\u001b[1;31m---------------------------------------------------------------------------\u001b[0m",
      "\u001b[1;31mNameError\u001b[0m                                 Traceback (most recent call last)",
      "\u001b[1;32m<ipython-input-14-01fe69c9e5e7>\u001b[0m in \u001b[0;36m<module>\u001b[1;34m()\u001b[0m\n\u001b[0;32m      3\u001b[0m \u001b[1;33m\u001b[0m\u001b[0m\n\u001b[0;32m      4\u001b[0m \u001b[1;33m\u001b[0m\u001b[0m\n\u001b[1;32m----> 5\u001b[1;33m \u001b[0mpossible_feature_sets\u001b[0m \u001b[1;33m=\u001b[0m \u001b[1;33m[\u001b[0m\u001b[0mbasic_features\u001b[0m\u001b[1;33m,\u001b[0m \u001b[0mfeatures_after_chapter_3\u001b[0m\u001b[1;33m,\u001b[0m \u001b[0mfeatures_after_chapter_4\u001b[0m\u001b[1;33m,\u001b[0m \u001b[0mfeatures_after_chapter_5\u001b[0m\u001b[1;33m,\u001b[0m \u001b[0mselected_features\u001b[0m\u001b[1;33m]\u001b[0m\u001b[1;33m\u001b[0m\u001b[0m\n\u001b[0m\u001b[0;32m      6\u001b[0m \u001b[0mfeature_names\u001b[0m \u001b[1;33m=\u001b[0m \u001b[1;33m[\u001b[0m\u001b[1;34m'initial set'\u001b[0m\u001b[1;33m,\u001b[0m \u001b[1;34m'Chapter 3'\u001b[0m\u001b[1;33m,\u001b[0m \u001b[1;34m'Chapter 4'\u001b[0m\u001b[1;33m,\u001b[0m \u001b[1;34m'Chapter 5'\u001b[0m\u001b[1;33m,\u001b[0m \u001b[1;34m'Selected features'\u001b[0m\u001b[1;33m]\u001b[0m\u001b[1;33m\u001b[0m\u001b[0m\n\u001b[0;32m      7\u001b[0m \u001b[0mrepeats\u001b[0m \u001b[1;33m=\u001b[0m \u001b[1;36m5\u001b[0m\u001b[1;33m\u001b[0m\u001b[0m\n",
      "\u001b[1;31mNameError\u001b[0m: name 'selected_features' is not defined"
     ]
    }
   ],
   "source": [
    "# So yes, it is important :) Therefore we perform grid searches over the most important parameters, and do so by means\n",
    "# of cross validation upon the training set.\n",
    "\n",
    "\n",
    "possible_feature_sets = [basic_features, features_after_chapter_3, features_after_chapter_4, features_after_chapter_5, selected_features]\n",
    "feature_names = ['initial set', 'Chapter 3', 'Chapter 4', 'Chapter 5', 'Selected features']\n",
    "repeats = 5\n",
    "\n",
    "scores_over_all_algs = []\n",
    "\n",
    "for i in range(0, len(possible_feature_sets)):\n",
    "    selected_train_X = train_X[possible_feature_sets[i]]\n",
    "    selected_test_X = test_X[possible_feature_sets[i]]\n",
    "\n",
    "    # First we run our non deterministic classifiers a number of times to average their score.\n",
    "\n",
    "    performance_tr_nn = 0\n",
    "    performance_tr_rf = 0\n",
    "    performance_tr_svm = 0\n",
    "    performance_te_nn = 0\n",
    "    performance_te_rf = 0\n",
    "    performance_te_svm = 0\n",
    "\n",
    "    for repeat in range(0, repeats):\n",
    "        class_train_y, class_test_y, class_train_prob_y, class_test_prob_y = learner.feedforward_neural_network(selected_train_X, train_y, selected_test_X, gridsearch=True)\n",
    "        performance_tr_nn += eval.accuracy(train_y, class_train_y)\n",
    "        performance_te_nn += eval.accuracy(test_y, class_test_y)\n",
    "\n",
    "        class_train_y, class_test_y, class_train_prob_y, class_test_prob_y, model = learner.random_forest(selected_train_X, train_y, selected_test_X, gridsearch=True)\n",
    "        performance_tr_rf += eval.accuracy(train_y, class_train_y)\n",
    "        performance_te_rf += eval.accuracy(test_y, class_test_y)\n",
    "\n",
    "        class_train_y, class_test_y, class_train_prob_y, class_test_prob_y = learner.support_vector_machine_with_kernel(selected_train_X, train_y, selected_test_X, gridsearch=True)\n",
    "        performance_tr_svm += eval.accuracy(train_y, class_train_y)\n",
    "        performance_te_svm += eval.accuracy(test_y, class_test_y)\n",
    "\n",
    "\n",
    "    overall_performance_tr_nn = performance_tr_nn/repeats\n",
    "    overall_performance_te_nn = performance_te_nn/repeats\n",
    "    overall_performance_tr_rf = performance_tr_rf/repeats\n",
    "    overall_performance_te_rf = performance_te_rf/repeats\n",
    "    overall_performance_tr_svm = performance_tr_svm/repeats\n",
    "    overall_performance_te_svm = performance_te_svm/repeats\n",
    "\n",
    "    # And we run our deterministic classifiers:\n",
    "\n",
    "\n",
    "    class_train_y, class_test_y, class_train_prob_y, class_test_prob_y = learner.k_nearest_neighbor(selected_train_X, train_y, selected_test_X, gridsearch=True)\n",
    "    performance_tr_knn = eval.accuracy(train_y, class_train_y)\n",
    "    performance_te_knn = eval.accuracy(test_y, class_test_y)\n",
    "\n",
    "    class_train_y, class_test_y, class_train_prob_y, class_test_prob_y = learner.decision_tree(selected_train_X, train_y, selected_test_X, gridsearch=True)\n",
    "    performance_tr_dt = eval.accuracy(train_y, class_train_y)\n",
    "    performance_te_dt = eval.accuracy(test_y, class_test_y)\n",
    "\n",
    "    class_train_y, class_test_y, class_train_prob_y, class_test_prob_y = learner.naive_bayes(selected_train_X, train_y, selected_test_X)\n",
    "    performance_tr_nb = eval.accuracy(train_y, class_train_y)\n",
    "    performance_te_nb = eval.accuracy(test_y, class_test_y)\n",
    "\n",
    "    scores_with_sd = util.print_table_row_performances(feature_names[i], len(selected_train_X.index), len(selected_test_X.index), [\n",
    "                                                                                                (overall_performance_tr_nn, overall_performance_te_nn),\n",
    "                                                                                                (overall_performance_tr_rf, overall_performance_te_rf),\n",
    "                                                                                                (overall_performance_tr_svm, overall_performance_te_svm),\n",
    "                                                                                                (performance_tr_knn, performance_te_knn),\n",
    "                                                                                                (performance_tr_dt, performance_te_dt),\n",
    "                                                                                                (performance_tr_nb, performance_te_nb)])\n",
    "    scores_over_all_algs.append(scores_with_sd)"
   ]
  },
  {
   "cell_type": "code",
   "execution_count": null,
   "metadata": {},
   "outputs": [],
   "source": [
    "DataViz.plot_performances_classification(['NN', 'RF', 'SVM', 'KNN', 'DT', 'NB'], feature_names, scores_over_all_algs)"
   ]
  },
  {
   "cell_type": "code",
   "execution_count": null,
   "metadata": {},
   "outputs": [],
   "source": [
    "# And we study two promising ones in more detail. First let us consider the random forrest which works best with the selected\n",
    "# features.\n",
    "\n",
    "class_train_y, class_test_y, class_train_prob_y, class_test_prob_y = learner.random_forest(train_X[features_after_chapter_5], train_y, test_X[features_after_chapter_5],\n",
    "                                                                                           gridsearch=True, print_model_details=True)\n",
    "\n",
    "test_cm = eval.confusion_matrix(test_y, class_test_y, class_train_prob_y.columns)\n",
    "DataViz.plot_confusion_matrix(test_cm, class_train_prob_y.columns, normalize=False)"
   ]
  }
 ],
 "metadata": {
  "kernelspec": {
   "display_name": "Python 2",
   "language": "python",
   "name": "python2"
  },
  "language_info": {
   "codemirror_mode": {
    "name": "ipython",
    "version": 2
   },
   "file_extension": ".py",
   "mimetype": "text/x-python",
   "name": "python",
   "nbconvert_exporter": "python",
   "pygments_lexer": "ipython2",
   "version": "2.7.15"
  }
 },
 "nbformat": 4,
 "nbformat_minor": 2
}
