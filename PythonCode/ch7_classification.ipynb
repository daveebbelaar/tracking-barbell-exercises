{
 "cells": [
  {
   "cell_type": "markdown",
   "metadata": {},
   "source": [
    "### Mark Hoogendoorn and Burkhardt Funk (2017)              \n",
    "Machine Learning for the Quantified Self               \n",
    "Springer,\n",
    "Chapter 7     "
   ]
  },
  {
   "cell_type": "code",
   "execution_count": 7,
   "metadata": {},
   "outputs": [],
   "source": [
    "from util.VisualizeDataset import VisualizeDataset\n",
    "from Chapter7.PrepareDatasetForLearning import PrepareDatasetForLearning\n",
    "from Chapter7.LearningAlgorithms import ClassificationAlgorithms\n",
    "from Chapter7.LearningAlgorithms import RegressionAlgorithms\n",
    "from Chapter7.Evaluation import ClassificationEvaluation\n",
    "from Chapter7.Evaluation import RegressionEvaluation\n",
    "from Chapter7.FeatureSelection import FeatureSelectionClassification\n",
    "from Chapter7.FeatureSelection import FeatureSelectionRegression\n",
    "import copy\n",
    "import pandas as pd\n",
    "from util import util\n",
    "import matplotlib.pyplot as plot\n",
    "import numpy as np\n",
    "from sklearn.model_selection import train_test_split\n",
    "from sklearn.metrics import confusion_matrix\n",
    "from sklearn.metrics import classification_report\n",
    "from sklearn.metrics import accuracy_score\n",
    "import os"
   ]
  },
  {
   "cell_type": "code",
   "execution_count": 8,
   "metadata": {},
   "outputs": [
    {
     "name": "stderr",
     "output_type": "stream",
     "text": [
      "C:\\Users\\davee\\Anaconda3\\envs\\ml4qs\\lib\\site-packages\\ipykernel_launcher.py:17: FutureWarning: to_datetime is deprecated. Use pd.to_datetime(...)\n"
     ]
    }
   ],
   "source": [
    "DataViz = VisualizeDataset()\n",
    "\n",
    "# Read the result from the previous chapter, and make sure the index is of the type datetime.\n",
    "\n",
    "dataset_path = 'intermediate_datafiles/'\n",
    "export_tree_path = 'Example_graphs/Chapter7/'\n",
    "\n",
    "try:\n",
    "    dataset = pd.read_csv(dataset_path + 'chapter5_result.csv', index_col=0)\n",
    "except IOError as e:\n",
    "    print('File not found, try to run previous crowdsignals scripts first!')\n",
    "    raise e\n",
    "\n",
    "if not os.path.exists(export_tree_path):\n",
    "    os.makedirs(export_tree_path)\n",
    "\n",
    "dataset.index = dataset.index.to_datetime()"
   ]
  },
  {
   "cell_type": "code",
   "execution_count": 10,
   "metadata": {},
   "outputs": [],
   "source": [
    "del dataset['participant']\n",
    "del dataset['category']\n",
    "del dataset['set']"
   ]
  },
  {
   "cell_type": "code",
   "execution_count": 11,
   "metadata": {},
   "outputs": [
    {
     "name": "stdout",
     "output_type": "stream",
     "text": [
      "Training set length is:  3152\n",
      "Test set length is:  1351\n"
     ]
    }
   ],
   "source": [
    "# Let us consider our first task, namely the prediction of the label. We consider this as a non-temporal task.\n",
    "\n",
    "# We create a single column with the categorical attribute representing our class. Furthermore, we use 70% of our data\n",
    "# for training and the remaining 30% as an independent test set. We select the sets based on stratified sampling. We remove\n",
    "# cases where we do not know the label.\n",
    "\n",
    "prepare = PrepareDatasetForLearning()\n",
    "\n",
    "train_X, test_X, train_y, test_y = prepare.split_single_dataset_classification(dataset, ['label'], 'like', 0.7, filter=True, temporal=False)\n",
    "#train_X, test_X, train_y, test_y = prepare.split_single_dataset_classification(dataset, ['label'], 'like', 0.01, filter=True, temporal=False)\n",
    "\n",
    "print 'Training set length is: ', len(train_X.index)\n",
    "print 'Test set length is: ', len(test_X.index)"
   ]
  },
  {
   "cell_type": "code",
   "execution_count": 12,
   "metadata": {},
   "outputs": [
    {
     "name": "stdout",
     "output_type": "stream",
     "text": [
      "#basic features:  8\n",
      "#PCA features:  3\n",
      "#time features:  16\n",
      "#frequency features:  12\n",
      "#cluster features:  1\n"
     ]
    }
   ],
   "source": [
    "# Select subsets of the features that we will consider:\n",
    "\n",
    "basic_features = ['acc_x','acc_y','acc_z', 'gyr_x','gyr_y','gyr_z', 'acc_r', 'gyr_r']\n",
    "pca_features = ['pca_1','pca_2','pca_3']\n",
    "time_features = [name for name in dataset.columns if '_temp_' in name]\n",
    "freq_features = [name for name in dataset.columns if (('_freq' in name) or ('_pse' in name))]\n",
    "print '#basic features: ', len(basic_features)\n",
    "print '#PCA features: ', len(pca_features)\n",
    "print '#time features: ', len(time_features)\n",
    "print '#frequency features: ', len(freq_features)\n",
    "cluster_features = ['cluster']\n",
    "print '#cluster features: ', len(cluster_features)\n",
    "features_after_chapter_3 = list(set().union(basic_features, pca_features))\n",
    "features_after_chapter_4 = list(set().union(basic_features, pca_features, time_features, freq_features))\n",
    "features_after_chapter_5 = list(set().union(basic_features, pca_features, time_features, freq_features, cluster_features))"
   ]
  },
  {
   "cell_type": "code",
   "execution_count": 13,
   "metadata": {
    "scrolled": true
   },
   "outputs": [
    {
     "name": "stdout",
     "output_type": "stream",
     "text": [
      "0\n",
      "1\n",
      "2\n",
      "3\n",
      "4\n",
      "5\n",
      "6\n",
      "7\n",
      "8\n",
      "9\n",
      "10\n",
      "11\n",
      "12\n",
      "13\n",
      "14\n",
      "15\n",
      "16\n",
      "17\n",
      "18\n",
      "19\n",
      "20\n",
      "21\n",
      "22\n",
      "23\n",
      "24\n",
      "25\n",
      "26\n",
      "27\n",
      "28\n",
      "29\n",
      "30\n",
      "31\n",
      "32\n",
      "33\n",
      "34\n",
      "35\n",
      "36\n",
      "37\n",
      "38\n",
      "39\n",
      "[0.81535532994923854, 0.95145939086294418, 0.97842639593908631, 0.98794416243654826, 0.99111675126903553, 0.99206852791878175, 0.99302030456852797, 0.99365482233502533, 0.99524111675126903, 0.99524111675126903, 0.99555837563451777, 0.99587563451776651, 0.99619289340101524, 0.99682741116751272, 0.99651015228426398, 0.99619289340101524, 0.99651015228426398, 0.99682741116751272, 0.99619289340101524, 0.99619289340101524, 0.99651015228426398, 0.99587563451776651, 0.99619289340101524, 0.99555837563451777, 0.99524111675126903, 0.99619289340101524, 0.99587563451776651, 0.99619289340101524, 0.99619289340101524, 0.99619289340101524, 0.99651015228426398, 0.99651015228426398, 0.99619289340101524, 0.99651015228426398, 0.99619289340101524, 0.99555837563451777, 0.99555837563451777, 0.99460659898477155, 0.99460659898477155, 0.99428934010152281]\n",
      "['pca_2', 'acc_y', 'pca_3', 'gyr_x_temp_std_ws_4', 'acc_r_pse', 'acc_x_temp_mean_ws_4', 'acc_r_freq_0.25_Hz_ws_4', 'gyr_r', 'acc_r_freq_0.0_Hz_ws_4', 'gyr_r_freq_weighted', 'gyr_r_freq_0.25_Hz_ws_4', 'gyr_z_temp_mean_ws_4', 'gyr_y_temp_std_ws_4', 'gyr_r_max_freq', 'gyr_x_temp_mean_ws_4', 'gyr_y_temp_mean_ws_4', 'acc_r', 'acc_r_temp_mean_ws_4', 'acc_r_freq_weighted', 'acc_r_freq_0.5_Hz_ws_4', 'acc_r_max_freq', 'gyr_x', 'cluster', 'acc_x', 'acc_r_temp_std_ws_4', 'acc_y_temp_mean_ws_4', 'gyr_y', 'acc_z_temp_std_ws_4', 'gyr_r_temp_std_ws_4', 'acc_z', 'gyr_z', 'pca_1', 'gyr_r_freq_0.5_Hz_ws_4', 'gyr_r_pse', 'acc_z_temp_mean_ws_4', 'gyr_r_freq_0.0_Hz_ws_4', 'gyr_r_temp_mean_ws_4', 'gyr_z_temp_std_ws_4', 'acc_y_temp_std_ws_4', 'acc_x_temp_std_ws_4']\n"
     ]
    }
   ],
   "source": [
    "# First, let us consider the performance over a selection of features:\n",
    "\n",
    "fs = FeatureSelectionClassification()\n",
    "\n",
    "features, ordered_features, ordered_scores = fs.forward_selection(len(features_after_chapter_5), train_X[features_after_chapter_5], train_y)\n",
    "print ordered_scores\n",
    "print ordered_features"
   ]
  },
  {
   "cell_type": "code",
   "execution_count": 19,
   "metadata": {},
   "outputs": [
    {
     "data": {
      "image/png": "[encoded data removed]",
      "text/plain": [
       "<Figure size 432x288 with 1 Axes>"
      ]
     },
     "metadata": {
      "needs_background": "light"
     },
     "output_type": "display_data"
    }
   ],
   "source": [
    "plot.plot(range(1, len(features_after_chapter_5)+1), ordered_scores)\n",
    "plot.xlabel('number of features')\n",
    "plot.ylabel('accuracy')\n",
    "plot.show()"
   ]
  },
  {
   "cell_type": "code",
   "execution_count": 25,
   "metadata": {},
   "outputs": [
    {
     "data": {
      "text/plain": [
       "['pca_2',\n",
       " 'acc_y',\n",
       " 'pca_3',\n",
       " 'gyr_x_temp_std_ws_4',\n",
       " 'acc_r_pse',\n",
       " 'acc_x_temp_mean_ws_4',\n",
       " 'acc_r_freq_0.25_Hz_ws_4',\n",
       " 'gyr_r',\n",
       " 'acc_r_freq_0.0_Hz_ws_4',\n",
       " 'gyr_r_freq_weighted',\n",
       " 'gyr_r_freq_0.25_Hz_ws_4',\n",
       " 'gyr_z_temp_mean_ws_4',\n",
       " 'gyr_y_temp_std_ws_4',\n",
       " 'gyr_r_max_freq',\n",
       " 'gyr_x_temp_mean_ws_4',\n",
       " 'gyr_y_temp_mean_ws_4',\n",
       " 'acc_r',\n",
       " 'acc_r_temp_mean_ws_4',\n",
       " 'acc_r_freq_weighted',\n",
       " 'acc_r_freq_0.5_Hz_ws_4']"
      ]
     },
     "execution_count": 25,
     "metadata": {},
     "output_type": "execute_result"
    }
   ],
   "source": [
    "ordered_features[:20]"
   ]
  },
  {
   "cell_type": "code",
   "execution_count": 21,
   "metadata": {},
   "outputs": [],
   "source": [
    "selected_features = ordered_features[:15]"
   ]
  },
  {
   "cell_type": "code",
   "execution_count": 17,
   "metadata": {},
   "outputs": [],
   "source": [
    "selected_features = ['gyr_r_freq_0.0_Hz_ws_50',\n",
    "                     'acc_y_temp_mean_ws_5',\n",
    "                     'acc_x_temp_mean_ws_5',\n",
    "                     'acc_y_temp_std_ws_5',\n",
    "                     'acc_x_temp_std_ws_5',\n",
    "                     'acc_z_temp_std_ws_5',\n",
    "                     'gyr_z',\n",
    "                     'gyr_r_freq_0.4_Hz_ws_50',\n",
    "                     'gyr_y_temp_mean_ws_5',\n",
    "                     'acc_r_freq_1.0_Hz_ws_50']"
   ]
  },
  {
   "cell_type": "code",
   "execution_count": 22,
   "metadata": {},
   "outputs": [],
   "source": [
    "learner = ClassificationAlgorithms()\n",
    "eval = ClassificationEvaluation()"
   ]
  },
  {
   "cell_type": "code",
   "execution_count": 23,
   "metadata": {
    "scrolled": true
   },
   "outputs": [
    {
     "name": "stderr",
     "output_type": "stream",
     "text": [
      "C:\\Users\\davee\\Anaconda3\\envs\\ml4qs\\lib\\site-packages\\ipykernel_launcher.py:19: MatplotlibDeprecationWarning: pyplot.hold is deprecated.\n",
      "    Future behavior will be consistent with the long-time default:\n",
      "    plot commands add elements without first clearing the\n",
      "    Axes and/or Figure.\n",
      "C:\\Users\\davee\\Anaconda3\\envs\\ml4qs\\lib\\site-packages\\matplotlib\\__init__.py:910: MatplotlibDeprecationWarning: axes.hold is deprecated. Please remove it from your matplotlibrc and/or style files.\n",
      "  mplDeprecation)\n",
      "C:\\Users\\davee\\Anaconda3\\envs\\ml4qs\\lib\\site-packages\\matplotlib\\rcsetup.py:156: MatplotlibDeprecationWarning: axes.hold is deprecated, will be removed in 3.0\n",
      "  mplDeprecation)\n",
      "C:\\Users\\davee\\Anaconda3\\envs\\ml4qs\\lib\\site-packages\\ipykernel_launcher.py:28: MatplotlibDeprecationWarning: pyplot.hold is deprecated.\n",
      "    Future behavior will be consistent with the long-time default:\n",
      "    plot commands add elements without first clearing the\n",
      "    Axes and/or Figure.\n"
     ]
    },
    {
     "name": "stdout",
     "output_type": "stream",
     "text": [
      "[0.98623096446700509, 0.98937182741116758, 0.98334390862944177, 0.96870241116751266, 0.939467005076142, 0.81806789340101516]\n",
      "[0.96946706143597328, 0.97142857142857131, 0.96709844559585512, 0.95284974093264263, 0.92549962990377499, 0.82490747594374536]\n"
     ]
    },
    {
     "data": {
      "image/png": "[encoded data removed]",
      "text/plain": [
       "<Figure size 432x288 with 1 Axes>"
      ]
     },
     "metadata": {
      "needs_background": "light"
     },
     "output_type": "display_data"
    }
   ],
   "source": [
    "reg_parameters = [0.0001, 0.001, 0.01, 0.1, 1, 10]\n",
    "performance_training = []\n",
    "performance_test = []\n",
    "\n",
    "repeats = 20\n",
    "\n",
    "for reg_param in reg_parameters:\n",
    "    performance_tr = 0\n",
    "    performance_te = 0\n",
    "    for i in range(0, repeats):\n",
    "        class_train_y, class_test_y, class_train_prob_y, class_test_prob_y = learner.feedforward_neural_network(train_X, train_y,\n",
    "                                                                                                            test_X, hidden_layer_sizes=(250, ), alpha=reg_param, max_iter=500,\n",
    "                                                                                                            gridsearch=False)\n",
    "        performance_tr += eval.accuracy(train_y, class_train_y)\n",
    "        performance_te += eval.accuracy(test_y, class_test_y)\n",
    "    performance_training.append(performance_tr/repeats)\n",
    "    performance_test.append(performance_te/repeats)\n",
    "\n",
    "plot.hold(True)\n",
    "plot.semilogx(reg_parameters, performance_training, 'r-')\n",
    "plot.semilogx(reg_parameters, performance_test, 'b:')\n",
    "print performance_training\n",
    "print performance_test\n",
    "plot.xlabel('regularization parameter value')\n",
    "plot.ylabel('accuracy')\n",
    "plot.ylim([0.95, 1.01])\n",
    "plot.legend(['training', 'test'], loc=4)\n",
    "plot.hold(False)\n",
    "\n",
    "plot.show()"
   ]
  },
  {
   "cell_type": "code",
   "execution_count": 24,
   "metadata": {
    "scrolled": true
   },
   "outputs": [
    {
     "name": "stderr",
     "output_type": "stream",
     "text": [
      "C:\\Users\\davee\\Anaconda3\\envs\\ml4qs\\lib\\site-packages\\ipykernel_launcher.py:13: MatplotlibDeprecationWarning: pyplot.hold is deprecated.\n",
      "    Future behavior will be consistent with the long-time default:\n",
      "    plot commands add elements without first clearing the\n",
      "    Axes and/or Figure.\n",
      "  del sys.path[0]\n",
      "C:\\Users\\davee\\Anaconda3\\envs\\ml4qs\\lib\\site-packages\\ipykernel_launcher.py:19: MatplotlibDeprecationWarning: pyplot.hold is deprecated.\n",
      "    Future behavior will be consistent with the long-time default:\n",
      "    plot commands add elements without first clearing the\n",
      "    Axes and/or Figure.\n"
     ]
    },
    {
     "data": {
      "image/png": "[encoded data removed]",
      "text/plain": [
       "<Figure size 432x288 with 1 Axes>"
      ]
     },
     "metadata": {
      "needs_background": "light"
     },
     "output_type": "display_data"
    }
   ],
   "source": [
    "# Second, let us consider the influence of certain parameter settings (very related to the regulariztion) and study the impact on performance.\n",
    "\n",
    "leaf_settings = [1,2,5,10]\n",
    "performance_training = []\n",
    "performance_test = []\n",
    "\n",
    "for no_points_leaf in leaf_settings:\n",
    "    class_train_y, class_test_y, class_train_prob_y, class_test_prob_y = learner.decision_tree(train_X[selected_features], train_y, test_X[selected_features], min_samples_leaf=no_points_leaf,\n",
    "                                                                                               gridsearch=False, print_model_details=False)\n",
    "    performance_training.append(eval.accuracy(train_y, class_train_y))\n",
    "    performance_test.append(eval.accuracy(test_y, class_test_y))\n",
    "\n",
    "plot.hold(True)\n",
    "plot.plot(leaf_settings, performance_training, 'r-')\n",
    "plot.plot(leaf_settings, performance_test, 'b:')\n",
    "plot.xlabel('minimum number of points per leaf')\n",
    "plot.ylabel('accuracy')\n",
    "plot.legend(['training', 'test'], loc=1)\n",
    "plot.hold(False)\n",
    "\n",
    "plot.show()"
   ]
  },
  {
   "cell_type": "code",
   "execution_count": 10,
   "metadata": {
    "scrolled": true
   },
   "outputs": [
    {
     "name": "stdout",
     "output_type": "stream",
     "text": [
      "initial set  &  0.8899 \\emph{( 0.8803 - 0.8996 )}  &  0.8795 \\emph{( 0.8642 - 0.8948 )}  &  0.9949 \\emph{( 0.9927 - 0.9971 )}  &  0.9297 \\emph{( 0.9177 - 0.9417 )}  &  0.8782 \\emph{( 0.8681 - 0.8882 )}  &  0.8464 \\emph{( 0.8294 - 0.8633 )}  &  0.6922 \\emph{( 0.6780 - 0.7063 )}  &  0.6487 \\emph{( 0.6263 - 0.6711 )}  &  0.9297 \\emph{( 0.9218 - 0.9375 )}  &  0.8772 \\emph{( 0.8618 - 0.8926 )}  &  0.8336 \\emph{( 0.8221 - 0.8450 )}  &  0.8348 \\emph{( 0.8174 - 0.8522 )} \\\\\\hline\n",
      "Chapter 3  &  0.8999 \\emph{( 0.8906 - 0.9091 )}  &  0.8877 \\emph{( 0.8728 - 0.9025 )}  &  0.9939 \\emph{( 0.9915 - 0.9963 )}  &  0.9302 \\emph{( 0.9182 - 0.9421 )}  &  0.8829 \\emph{( 0.8730 - 0.8928 )}  &  0.8519 \\emph{( 0.8352 - 0.8685 )}  &  0.6990 \\emph{( 0.6849 - 0.7131 )}  &  0.6558 \\emph{( 0.6335 - 0.6781 )}  &  0.9337 \\emph{( 0.9260 - 0.9413 )}  &  0.8822 \\emph{( 0.8670 - 0.8973 )}  &  0.8451 \\emph{( 0.8340 - 0.8563 )}  &  0.8469 \\emph{( 0.8300 - 0.8638 )} \\\\\\hline\n",
      "Chapter 4  &  0.9926 \\emph{( 0.9900 - 0.9953 )}  &  0.9436 \\emph{( 0.9328 - 0.9544 )}  &  0.9998 \\emph{( 0.9994 - 1.0002 )}  &  0.9829 \\emph{( 0.9769 - 0.9890 )}  &  1.0000 \\emph{( 1.0000 - 1.0000 )}  &  0.8232 \\emph{( 0.8053 - 0.8411 )}  &  1.0000 \\emph{( 1.0000 - 1.0000 )}  &  0.7814 \\emph{( 0.7620 - 0.8008 )}  &  0.9969 \\emph{( 0.9952 - 0.9986 )}  &  0.9697 \\emph{( 0.9617 - 0.9778 )}  &  0.9405 \\emph{( 0.9332 - 0.9478 )}  &  0.9427 \\emph{( 0.9318 - 0.9536 )} \\\\\\hline\n",
      "Chapter 5  &  0.9882 \\emph{( 0.9849 - 0.9915 )}  &  0.9425 \\emph{( 0.9316 - 0.9534 )}  &  1.0000 \\emph{( 1.0000 - 1.0000 )}  &  0.9825 \\emph{( 0.9763 - 0.9886 )}  &  1.0000 \\emph{( 1.0000 - 1.0000 )}  &  0.8271 \\emph{( 0.8093 - 0.8448 )}  &  1.0000 \\emph{( 1.0000 - 1.0000 )}  &  0.7814 \\emph{( 0.7620 - 0.8008 )}  &  0.9950 \\emph{( 0.9929 - 0.9972 )}  &  0.9675 \\emph{( 0.9592 - 0.9758 )}  &  0.9325 \\emph{( 0.9248 - 0.9402 )}  &  0.9339 \\emph{( 0.9223 - 0.9456 )} \\\\\\hline\n"
     ]
    }
   ],
   "source": [
    "# So yes, it is important :) Therefore we perform grid searches over the most important parameters, and do so by means\n",
    "# of cross validation upon the training set.\n",
    "\n",
    "possible_feature_sets = [basic_features, features_after_chapter_3, features_after_chapter_4, features_after_chapter_5, selected_features]\n",
    "feature_names = ['Initial set', 'Chapter 3', 'Chapter 4', 'Chapter 5', 'Selected Features']\n",
    "repeats = 5\n",
    "\n",
    "scores_over_all_algs = []\n",
    "\n",
    "for i in range(0, len(possible_feature_sets)):\n",
    "    selected_train_X = train_X[possible_feature_sets[i]]\n",
    "    selected_test_X = test_X[possible_feature_sets[i]]\n",
    "\n",
    "    # First we run our non deterministic classifiers a number of times to average their score.\n",
    "\n",
    "    performance_tr_nn = 0\n",
    "    performance_tr_rf = 0\n",
    "    performance_tr_svm = 0\n",
    "    performance_te_nn = 0\n",
    "    performance_te_rf = 0\n",
    "    performance_te_svm = 0\n",
    "\n",
    "    for repeat in range(0, repeats):\n",
    "        class_train_y, class_test_y, class_train_prob_y, class_test_prob_y = learner.feedforward_neural_network(selected_train_X, train_y, selected_test_X, gridsearch=True)\n",
    "        performance_tr_nn += eval.accuracy(train_y, class_train_y)\n",
    "        performance_te_nn += eval.accuracy(test_y, class_test_y)\n",
    "\n",
    "        class_train_y, class_test_y, class_train_prob_y, class_test_prob_y, model = learner.random_forest(selected_train_X, train_y, selected_test_X, gridsearch=True)\n",
    "        performance_tr_rf += eval.accuracy(train_y, class_train_y)\n",
    "        performance_te_rf += eval.accuracy(test_y, class_test_y)\n",
    "\n",
    "        class_train_y, class_test_y, class_train_prob_y, class_test_prob_y = learner.support_vector_machine_with_kernel(selected_train_X, train_y, selected_test_X, gridsearch=True)\n",
    "        performance_tr_svm += eval.accuracy(train_y, class_train_y)\n",
    "        performance_te_svm += eval.accuracy(test_y, class_test_y)\n",
    "\n",
    "\n",
    "    overall_performance_tr_nn = performance_tr_nn/repeats\n",
    "    overall_performance_te_nn = performance_te_nn/repeats\n",
    "    overall_performance_tr_rf = performance_tr_rf/repeats\n",
    "    overall_performance_te_rf = performance_te_rf/repeats\n",
    "    overall_performance_tr_svm = performance_tr_svm/repeats\n",
    "    overall_performance_te_svm = performance_te_svm/repeats\n",
    "\n",
    "    # And we run our deterministic classifiers:\n",
    "\n",
    "\n",
    "    class_train_y, class_test_y, class_train_prob_y, class_test_prob_y = learner.k_nearest_neighbor(selected_train_X, train_y, selected_test_X, gridsearch=True)\n",
    "    performance_tr_knn = eval.accuracy(train_y, class_train_y)\n",
    "    performance_te_knn = eval.accuracy(test_y, class_test_y)\n",
    "\n",
    "    class_train_y, class_test_y, class_train_prob_y, class_test_prob_y = learner.decision_tree(selected_train_X, train_y, selected_test_X, gridsearch=True)\n",
    "    performance_tr_dt = eval.accuracy(train_y, class_train_y)\n",
    "    performance_te_dt = eval.accuracy(test_y, class_test_y)\n",
    "\n",
    "    class_train_y, class_test_y, class_train_prob_y, class_test_prob_y = learner.naive_bayes(selected_train_X, train_y, selected_test_X)\n",
    "    performance_tr_nb = eval.accuracy(train_y, class_train_y)\n",
    "    performance_te_nb = eval.accuracy(test_y, class_test_y)\n",
    "\n",
    "    scores_with_sd = util.print_table_row_performances(feature_names[i], len(selected_train_X.index), len(selected_test_X.index), [\n",
    "                                                                                                (overall_performance_tr_nn, overall_performance_te_nn),\n",
    "                                                                                                (overall_performance_tr_rf, overall_performance_te_rf),\n",
    "                                                                                                (overall_performance_tr_svm, overall_performance_te_svm),\n",
    "                                                                                                (performance_tr_knn, performance_te_knn),\n",
    "                                                                                                (performance_tr_dt, performance_te_dt),\n",
    "                                                                                                (performance_tr_nb, performance_te_nb)])\n",
    "    scores_over_all_algs.append(scores_with_sd)"
   ]
  },
  {
   "cell_type": "code",
   "execution_count": 11,
   "metadata": {},
   "outputs": [
    {
     "name": "stderr",
     "output_type": "stream",
     "text": [
      "util\\VisualizeDataset.py:344: MatplotlibDeprecationWarning: pyplot.hold is deprecated.\n",
      "    Future behavior will be consistent with the long-time default:\n",
      "    plot commands add elements without first clearing the\n",
      "    Axes and/or Figure.\n",
      "  plot.hold(True)\n"
     ]
    },
    {
     "data": {
      "image/png": "[encoded data removed]",
      "text/plain": [
       "<Figure size 432x288 with 1 Axes>"
      ]
     },
     "metadata": {
      "needs_background": "light"
     },
     "output_type": "display_data"
    }
   ],
   "source": [
    "DataViz.plot_performances_classification(['NN', 'RF', 'SVM', 'KNN', 'DT', 'NB'], feature_names, scores_over_all_algs)"
   ]
  },
  {
   "cell_type": "code",
   "execution_count": 12,
   "metadata": {},
   "outputs": [
    {
     "name": "stdout",
     "output_type": "stream",
     "text": [
      "{'n_estimators': 100, 'criterion': 'entropy', 'min_samples_leaf': 2}\n",
      "Feature importance random forest:\n",
      "acc_y  &  0.105400871948\n",
      "acc_y_temp_mean_ws_5  &  0.0806123933785\n",
      "pca_1  &  0.0770333399955\n",
      "cluster  &  0.0686999314553\n",
      "acc_z_temp_mean_ws_5  &  0.0679588509079\n",
      "gyr_r_freq_0.0_Hz_ws_50  &  0.0638089747573\n",
      "acc_z  &  0.0549557041818\n",
      "acc_x_temp_mean_ws_5  &  0.0535785400994\n",
      "gyr_z_temp_std_ws_5  &  0.0532262446393\n",
      "pca_2  &  0.0491389250962\n",
      "acc_x  &  0.0400364804304\n",
      "acc_r_pse  &  0.0281631516704\n",
      "acc_r_freq_0.0_Hz_ws_50  &  0.0243508190472\n",
      "gyr_r_temp_mean_ws_5  &  0.0237778278259\n",
      "acc_x_temp_std_ws_5  &  0.0208308915371\n",
      "acc_y_temp_std_ws_5  &  0.0204400028052\n",
      "pca_3  &  0.0194953124886\n",
      "gyr_r_temp_std_ws_5  &  0.0178478029801\n",
      "gyr_x_temp_std_ws_5  &  0.0156861977805\n",
      "acc_r_temp_std_ws_5  &  0.0148212421892\n",
      "acc_z_temp_std_ws_5  &  0.0086845428333\n",
      "gyr_y_temp_std_ws_5  &  0.00778302900357\n",
      "gyr_r_pse  &  0.00700018956745\n",
      "acc_r_temp_mean_ws_5  &  0.00514493192918\n",
      "gyr_r  &  0.0039509559153\n",
      "gyr_z_temp_mean_ws_5  &  0.00389191088656\n",
      "gyr_z  &  0.00362659191522\n",
      "acc_r_freq_0.3_Hz_ws_50  &  0.00354034745994\n",
      "acc_r  &  0.00262869488726\n",
      "gyr_r_freq_0.1_Hz_ws_50  &  0.00256847276915\n",
      "gyr_x_temp_mean_ws_5  &  0.00234387548364\n",
      "gyr_r_freq_0.3_Hz_ws_50  &  0.00230525423463\n",
      "gyr_y_temp_mean_ws_5  &  0.00225050820207\n",
      "gyr_y  &  0.00166654737387\n",
      "gyr_r_freq_0.4_Hz_ws_50  &  0.00161686597072\n",
      "acc_r_freq_1.1_Hz_ws_50  &  0.00152795326762\n",
      "gyr_r_freq_0.2_Hz_ws_50  &  0.00144424450889\n",
      "acc_r_freq_0.4_Hz_ws_50  &  0.00137636926703\n",
      "gyr_r_freq_0.5_Hz_ws_50  &  0.00130981904236\n",
      "acc_r_freq_0.5_Hz_ws_50  &  0.00129588481779\n",
      "gyr_r_freq_1.5_Hz_ws_50  &  0.00129098879369\n",
      "gyr_r_freq_1.8_Hz_ws_50  &  0.00123478322236\n",
      "acc_r_freq_0.6_Hz_ws_50  &  0.00122965551004\n",
      "gyr_r_freq_1.4_Hz_ws_50  &  0.0011946470992\n",
      "gyr_r_freq_0.7_Hz_ws_50  &  0.00119303344929\n",
      "gyr_r_freq_2.0_Hz_ws_50  &  0.00118550248343\n",
      "acc_r_freq_1.0_Hz_ws_50  &  0.00116106369586\n",
      "acc_r_freq_0.2_Hz_ws_50  &  0.00107229104436\n",
      "gyr_r_freq_0.6_Hz_ws_50  &  0.00105363277268\n",
      "gyr_x  &  0.00102259559174\n",
      "acc_r_freq_0.9_Hz_ws_50  &  0.000992334279613\n",
      "acc_r_freq_0.1_Hz_ws_50  &  0.000974881156339\n",
      "gyr_r_freq_0.9_Hz_ws_50  &  0.000921117723565\n",
      "gyr_r_freq_1.6_Hz_ws_50  &  0.000898723465418\n",
      "gyr_r_freq_1.9_Hz_ws_50  &  0.000873398686128\n",
      "acc_r_freq_1.2_Hz_ws_50  &  0.000823274641176\n",
      "gyr_r_freq_1.0_Hz_ws_50  &  0.000797426066551\n",
      "gyr_r_freq_2.1_Hz_ws_50  &  0.00078830914789\n",
      "gyr_r_freq_1.3_Hz_ws_50  &  0.000744862381832\n",
      "acc_r_freq_0.7_Hz_ws_50  &  0.00073486036126\n",
      "acc_r_freq_2.3_Hz_ws_50  &  0.000728221298124\n",
      "acc_r_freq_2.5_Hz_ws_50  &  0.00071516745815\n",
      "acc_r_freq_0.8_Hz_ws_50  &  0.000681863355046\n",
      "acc_r_freq_2.4_Hz_ws_50  &  0.00067224191829\n",
      "gyr_r_freq_2.2_Hz_ws_50  &  0.000671930305709\n",
      "gyr_r_freq_weighted  &  0.000662387236138\n",
      "gyr_r_freq_0.8_Hz_ws_50  &  0.000657837707124\n",
      "acc_r_freq_1.5_Hz_ws_50  &  0.000655257183006\n",
      "acc_r_freq_1.7_Hz_ws_50  &  0.000653741267501\n",
      "acc_r_freq_1.3_Hz_ws_50  &  0.000647124947197\n",
      "gyr_r_freq_2.4_Hz_ws_50  &  0.000627708081888\n",
      "acc_r_freq_weighted  &  0.000624851218048\n",
      "acc_r_freq_2.0_Hz_ws_50  &  0.000624836686648\n",
      "gyr_r_freq_1.7_Hz_ws_50  &  0.000588041941863\n",
      "acc_r_freq_2.1_Hz_ws_50  &  0.000587446295211\n",
      "acc_r_freq_1.9_Hz_ws_50  &  0.000579318884463\n",
      "gyr_r_freq_2.5_Hz_ws_50  &  0.000576738558542\n",
      "acc_r_freq_2.2_Hz_ws_50  &  0.00056660238897\n",
      "gyr_r_freq_1.1_Hz_ws_50  &  0.000546974557488\n",
      "acc_r_freq_1.4_Hz_ws_50  &  0.000485403959756\n",
      "acc_r_freq_1.6_Hz_ws_50  &  0.000431407565164\n",
      "acc_r_freq_1.8_Hz_ws_50  &  0.00042638811856\n",
      "gyr_r_freq_1.2_Hz_ws_50  &  0.000351451926034\n",
      "gyr_r_freq_2.3_Hz_ws_50  &  0.000229181018802\n",
      "gyr_r_max_freq  &  0.0\n",
      "acc_r_max_freq  &  0.0\n"
     ]
    }
   ],
   "source": [
    "# And we study two promising ones in more detail. First let us consider the random forrest which works best with the selected\n",
    "# features.\n",
    "\n",
    "class_train_y, class_test_y, class_train_prob_y, class_test_prob_y, model = learner.random_forest(train_X[features_after_chapter_5], train_y, test_X[features_after_chapter_5],\n",
    "                                                                                           gridsearch=True, print_model_details=True)"
   ]
  },
  {
   "cell_type": "code",
   "execution_count": 13,
   "metadata": {},
   "outputs": [
    {
     "data": {
      "image/png": "[encoded data removed]",
      "text/plain": [
       "<Figure size 432x288 with 2 Axes>"
      ]
     },
     "metadata": {
      "needs_background": "light"
     },
     "output_type": "display_data"
    }
   ],
   "source": [
    "test_cm = eval.confusion_matrix(test_y, class_test_y, class_train_prob_y.columns)\n",
    "DataViz.plot_confusion_matrix(test_cm, class_train_prob_y.columns, normalize=False)"
   ]
  },
  {
   "cell_type": "code",
   "execution_count": 17,
   "metadata": {},
   "outputs": [
    {
     "data": {
      "text/plain": [
       "0.98348017621145378"
      ]
     },
     "execution_count": 17,
     "metadata": {},
     "output_type": "execute_result"
    }
   ],
   "source": [
    "cm = confusion_matrix(test_y, class_test_y, class_train_prob_y.columns)\n",
    "cr = classification_report(test_y, class_test_y, class_train_prob_y.columns)\n",
    "accuracy_score(test_y, class_test_y)"
   ]
  }
 ],
 "metadata": {
  "kernelspec": {
   "display_name": "Python 2",
   "language": "python",
   "name": "python2"
  },
  "language_info": {
   "codemirror_mode": {
    "name": "ipython",
    "version": 2
   },
   "file_extension": ".py",
   "mimetype": "text/x-python",
   "name": "python",
   "nbconvert_exporter": "python",
   "pygments_lexer": "ipython2",
   "version": "2.7.15"
  }
 },
 "nbformat": 4,
 "nbformat_minor": 2
}
