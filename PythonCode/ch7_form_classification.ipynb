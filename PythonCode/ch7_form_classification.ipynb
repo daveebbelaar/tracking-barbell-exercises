{
 "cells": [
  {
   "cell_type": "markdown",
   "metadata": {},
   "source": [
    "### Mark Hoogendoorn and Burkhardt Funk (2017)              \n",
    "Machine Learning for the Quantified Self               \n",
    "Springer,\n",
    "Chapter 7    "
   ]
  },
  {
   "cell_type": "code",
   "execution_count": 33,
   "metadata": {},
   "outputs": [],
   "source": [
    "from util.VisualizeDataset import VisualizeDataset\n",
    "from Chapter7.PrepareDatasetForLearning import PrepareDatasetForLearning\n",
    "from Chapter7.LearningAlgorithms import ClassificationAlgorithms\n",
    "from Chapter7.LearningAlgorithms import RegressionAlgorithms\n",
    "from Chapter7.Evaluation import ClassificationEvaluation\n",
    "from Chapter7.Evaluation import RegressionEvaluation\n",
    "from Chapter7.FeatureSelection import FeatureSelectionClassification\n",
    "from Chapter7.FeatureSelection import FeatureSelectionRegression\n",
    "import copy\n",
    "import pandas as pd\n",
    "from util import util\n",
    "import matplotlib.pyplot as plot\n",
    "import numpy as np\n",
    "from sklearn.model_selection import train_test_split\n",
    "from sklearn.metrics import confusion_matrix\n",
    "from sklearn.metrics import classification_report\n",
    "from sklearn.metrics import accuracy_score\n",
    "import os"
   ]
  },
  {
   "cell_type": "code",
   "execution_count": 34,
   "metadata": {
    "scrolled": false
   },
   "outputs": [
    {
     "name": "stderr",
     "output_type": "stream",
     "text": [
      "C:\\Users\\davee\\Anaconda3\\envs\\ml4qs\\lib\\site-packages\\ipykernel_launcher.py:18: FutureWarning: to_datetime is deprecated. Use pd.to_datetime(...)\n",
      "C:\\Users\\davee\\Anaconda3\\envs\\ml4qs\\lib\\site-packages\\ipykernel_launcher.py:19: FutureWarning: to_datetime is deprecated. Use pd.to_datetime(...)\n"
     ]
    }
   ],
   "source": [
    "DataViz = VisualizeDataset()\n",
    "\n",
    "# Read the result from the previous chapter, and make sure the index is of the type datetime.\n",
    "\n",
    "dataset_path = 'intermediate_datafiles/'\n",
    "export_tree_path = 'Example_graphs/Chapter7/'\n",
    "\n",
    "try:\n",
    "    dataset = pd.read_csv(dataset_path + 'chapter5_result.csv', index_col=0)\n",
    "    dataset_bf = pd.read_csv(dataset_path + 'chapter4_result_bf.csv', index_col=0)\n",
    "except IOError as e:\n",
    "    print('File not found, try to run previous crowdsignals scripts first!')\n",
    "    raise e\n",
    "\n",
    "if not os.path.exists(export_tree_path):\n",
    "    os.makedirs(export_tree_path)\n",
    "\n",
    "dataset.index = dataset.index.to_datetime()\n",
    "dataset_bf.index = dataset_bf.index.to_datetime()"
   ]
  },
  {
   "cell_type": "code",
   "execution_count": 35,
   "metadata": {},
   "outputs": [],
   "source": [
    "bench = dataset[list(dataset_bf)][dataset[list(dataset_bf)]['labelBenchPress'] == 1]"
   ]
  },
  {
   "cell_type": "code",
   "execution_count": 36,
   "metadata": {},
   "outputs": [],
   "source": [
    "dataset = pd.concat([bench[:250], dataset_bf])"
   ]
  },
  {
   "cell_type": "code",
   "execution_count": 37,
   "metadata": {},
   "outputs": [],
   "source": [
    "del dataset['participant']\n",
    "del dataset['set']\n",
    "del dataset['labelBenchPress']\n",
    "del dataset['labelDeadlift']\n",
    "del dataset['labelOHP']\n",
    "del dataset['labelSquat']\n",
    "del dataset['labelRow']\n",
    "del dataset['labelRest']"
   ]
  },
  {
   "cell_type": "code",
   "execution_count": 38,
   "metadata": {
    "scrolled": true
   },
   "outputs": [],
   "source": [
    "dataset['category'] = dataset['category'].apply(lambda x: 'good' if x == 'heavy' or x == 'medium' else x)"
   ]
  },
  {
   "cell_type": "code",
   "execution_count": 39,
   "metadata": {},
   "outputs": [],
   "source": [
    "dataset.dropna(inplace=True)"
   ]
  },
  {
   "cell_type": "code",
   "execution_count": 40,
   "metadata": {},
   "outputs": [],
   "source": [
    "X = dataset.drop('category', axis=1)\n",
    "y = dataset['category']"
   ]
  },
  {
   "cell_type": "code",
   "execution_count": 41,
   "metadata": {
    "scrolled": true
   },
   "outputs": [],
   "source": [
    "train_X, test_X, train_y, test_y = train_test_split(X, y, test_size=0.3)"
   ]
  },
  {
   "cell_type": "code",
   "execution_count": 42,
   "metadata": {},
   "outputs": [
    {
     "name": "stdout",
     "output_type": "stream",
     "text": [
      "#basic features:  8\n",
      "#time features:  16\n",
      "#frequency features:  58\n"
     ]
    }
   ],
   "source": [
    "# Select subsets of the features that we will consider:\n",
    "\n",
    "basic_features = ['acc_x','acc_y','acc_z', 'gyr_x','gyr_y','gyr_z', 'acc_r', 'gyr_r']\n",
    "time_features = [name for name in dataset.columns if '_temp_' in name]\n",
    "freq_features = [name for name in dataset.columns if (('_freq' in name) or ('_pse' in name))]\n",
    "print '#basic features: ', len(basic_features)\n",
    "print '#time features: ', len(time_features)\n",
    "print '#frequency features: ', len(freq_features)\n",
    "features_after_chapter_3 = list(set().union(basic_features))\n",
    "features_after_chapter_4 = list(set().union(basic_features, time_features, freq_features))"
   ]
  },
  {
   "cell_type": "code",
   "execution_count": 43,
   "metadata": {},
   "outputs": [],
   "source": [
    "selected_features = ['gyr_r_freq_0.0_Hz_ws_50', 'acc_z_temp_mean_ws_5', 'acc_y_temp_std_ws_5', 'acc_x', \n",
    "                   'acc_r_freq_0.5_Hz_ws_50', 'gyr_r_pse', 'acc_r_freq_0.4_Hz_ws_50', 'gyr_r_freq_2.0_Hz_ws_50', \n",
    "                   'acc_r_freq_1.2_Hz_ws_50', 'acc_r_temp_std_ws_5']"
   ]
  },
  {
   "cell_type": "code",
   "execution_count": 44,
   "metadata": {},
   "outputs": [],
   "source": [
    "learner = ClassificationAlgorithms()\n",
    "eval = ClassificationEvaluation()"
   ]
  },
  {
   "cell_type": "code",
   "execution_count": 45,
   "metadata": {},
   "outputs": [
    {
     "name": "stdout",
     "output_type": "stream",
     "text": [
      "{'n_estimators': 100, 'criterion': 'entropy', 'min_samples_leaf': 2}\n",
      "Feature importance random forest:\n",
      "gyr_r_freq_0.0_Hz_ws_50  &  0.310208765212\n",
      "acc_z_temp_mean_ws_5  &  0.187526924436\n",
      "acc_x  &  0.143207008288\n",
      "gyr_r_pse  &  0.0769566829428\n",
      "acc_r_temp_std_ws_5  &  0.0549189585318\n",
      "acc_r_freq_0.5_Hz_ws_50  &  0.0541457262372\n",
      "acc_y_temp_std_ws_5  &  0.0499408404085\n",
      "acc_r_freq_1.2_Hz_ws_50  &  0.0480636669514\n",
      "acc_r_freq_0.4_Hz_ws_50  &  0.0475704030658\n",
      "gyr_r_freq_2.0_Hz_ws_50  &  0.0274610239269\n"
     ]
    }
   ],
   "source": [
    "# And we study two promising ones in more detail. First let us consider the random forrest which works best with the selected\n",
    "# features.\n",
    "\n",
    "class_train_y, class_test_y, class_train_prob_y, class_test_prob_y, model = learner.random_forest(train_X[selected_features], train_y, test_X[selected_features],\n",
    "                                                                                           gridsearch=True, print_model_details=True)"
   ]
  },
  {
   "cell_type": "code",
   "execution_count": 46,
   "metadata": {},
   "outputs": [
    {
     "data": {
      "image/png": "[encoded data removed]",
      "text/plain": [
       "<Figure size 432x288 with 2 Axes>"
      ]
     },
     "metadata": {
      "needs_background": "light"
     },
     "output_type": "display_data"
    }
   ],
   "source": [
    "test_cm = eval.confusion_matrix(test_y, class_test_y, class_train_prob_y.columns)\n",
    "DataViz.plot_confusion_matrix(test_cm, class_train_prob_y.columns, normalize=False)"
   ]
  },
  {
   "cell_type": "code",
   "execution_count": 47,
   "metadata": {
    "scrolled": true
   },
   "outputs": [
    {
     "data": {
      "text/plain": [
       "0.94690265486725667"
      ]
     },
     "execution_count": 47,
     "metadata": {},
     "output_type": "execute_result"
    }
   ],
   "source": [
    "cm = confusion_matrix(test_y, class_test_y, class_train_prob_y.columns)\n",
    "cr = classification_report(test_y, class_test_y, class_train_prob_y.columns)\n",
    "accuracy_score(test_y, class_test_y)"
   ]
  }
 ],
 "metadata": {
  "kernelspec": {
   "display_name": "Python 2",
   "language": "python",
   "name": "python2"
  },
  "language_info": {
   "codemirror_mode": {
    "name": "ipython",
    "version": 2
   },
   "file_extension": ".py",
   "mimetype": "text/x-python",
   "name": "python",
   "nbconvert_exporter": "python",
   "pygments_lexer": "ipython2",
   "version": "2.7.15"
  }
 },
 "nbformat": 4,
 "nbformat_minor": 2
}
