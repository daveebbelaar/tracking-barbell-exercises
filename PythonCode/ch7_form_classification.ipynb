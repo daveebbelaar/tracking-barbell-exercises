{
 "cells": [
  {
   "cell_type": "markdown",
   "metadata": {},
   "source": [
    "### Mark Hoogendoorn and Burkhardt Funk (2017)              \n",
    "Machine Learning for the Quantified Self               \n",
    "Springer\n",
    "Chapter 7    "
   ]
  },
  {
   "cell_type": "code",
   "execution_count": 82,
   "metadata": {},
   "outputs": [],
   "source": [
    "from util.VisualizeDataset import VisualizeDataset\n",
    "from Chapter7.PrepareDatasetForLearning import PrepareDatasetForLearning\n",
    "from Chapter7.LearningAlgorithms import ClassificationAlgorithms\n",
    "from Chapter7.LearningAlgorithms import RegressionAlgorithms\n",
    "from Chapter7.Evaluation import ClassificationEvaluation\n",
    "from Chapter7.Evaluation import RegressionEvaluation\n",
    "from Chapter7.FeatureSelection import FeatureSelectionClassification\n",
    "from Chapter7.FeatureSelection import FeatureSelectionRegression\n",
    "import copy\n",
    "import pandas as pd\n",
    "from util import util\n",
    "import matplotlib.pyplot as plot\n",
    "import numpy as np\n",
    "from sklearn.model_selection import train_test_split\n",
    "import os"
   ]
  },
  {
   "cell_type": "code",
   "execution_count": 83,
   "metadata": {
    "scrolled": false
   },
   "outputs": [
    {
     "name": "stderr",
     "output_type": "stream",
     "text": [
      "C:\\Users\\davee\\Anaconda3\\envs\\ml4qs\\lib\\site-packages\\ipykernel_launcher.py:18: FutureWarning: to_datetime is deprecated. Use pd.to_datetime(...)\n",
      "C:\\Users\\davee\\Anaconda3\\envs\\ml4qs\\lib\\site-packages\\ipykernel_launcher.py:19: FutureWarning: to_datetime is deprecated. Use pd.to_datetime(...)\n"
     ]
    }
   ],
   "source": [
    "DataViz = VisualizeDataset()\n",
    "\n",
    "# Read the result from the previous chapter, and make sure the index is of the type datetime.\n",
    "\n",
    "dataset_path = 'intermediate_datafiles/'\n",
    "export_tree_path = 'Example_graphs/Chapter7/'\n",
    "\n",
    "try:\n",
    "    dataset = pd.read_csv(dataset_path + 'chapter5_result.csv', index_col=0)\n",
    "    dataset_bf = pd.read_csv(dataset_path + 'chapter4_result_bf.csv', index_col=0)\n",
    "except IOError as e:\n",
    "    print('File not found, try to run previous crowdsignals scripts first!')\n",
    "    raise e\n",
    "\n",
    "if not os.path.exists(export_tree_path):\n",
    "    os.makedirs(export_tree_path)\n",
    "\n",
    "dataset.index = dataset.index.to_datetime()\n",
    "dataset_bf.index = dataset_bf.index.to_datetime()"
   ]
  },
  {
   "cell_type": "code",
   "execution_count": 84,
   "metadata": {},
   "outputs": [],
   "source": [
    "bench = dataset[list(dataset_bf)][dataset[list(dataset_bf)]['labelBenchPress'] == 1]"
   ]
  },
  {
   "cell_type": "code",
   "execution_count": 85,
   "metadata": {},
   "outputs": [],
   "source": [
    "dataset = pd.concat([bench, dataset_bf])"
   ]
  },
  {
   "cell_type": "code",
   "execution_count": 86,
   "metadata": {},
   "outputs": [],
   "source": [
    "del dataset['participant']\n",
    "del dataset['set']\n",
    "del dataset['labelBenchPress']\n",
    "del dataset['labelDeadlift']\n",
    "del dataset['labelOHP']\n",
    "del dataset['labelSquat']\n",
    "del dataset['labelRow']\n",
    "del dataset['labelRest']"
   ]
  },
  {
   "cell_type": "code",
   "execution_count": 87,
   "metadata": {
    "scrolled": true
   },
   "outputs": [],
   "source": [
    "dataset['category'] = dataset['category'].apply(lambda x: 'good' if x == 'heavy' or x == 'medium' else x)"
   ]
  },
  {
   "cell_type": "code",
   "execution_count": 101,
   "metadata": {},
   "outputs": [],
   "source": [
    "dataset.dropna(inplace=True)"
   ]
  },
  {
   "cell_type": "code",
   "execution_count": 102,
   "metadata": {},
   "outputs": [],
   "source": [
    "X = dataset.drop('category', axis=1)\n",
    "y = dataset['category']"
   ]
  },
  {
   "cell_type": "code",
   "execution_count": 103,
   "metadata": {
    "scrolled": true
   },
   "outputs": [],
   "source": [
    "train_X, test_X, train_y, test_y = train_test_split(X, y, test_size=0.3)"
   ]
  },
  {
   "cell_type": "code",
   "execution_count": 104,
   "metadata": {},
   "outputs": [
    {
     "name": "stdout",
     "output_type": "stream",
     "text": [
      "#basic features:  8\n",
      "#time features:  16\n",
      "#frequency features:  58\n"
     ]
    }
   ],
   "source": [
    "# Select subsets of the features that we will consider:\n",
    "\n",
    "basic_features = ['acc_x','acc_y','acc_z', 'gyr_x','gyr_y','gyr_z', 'acc_r', 'gyr_r']\n",
    "time_features = [name for name in dataset.columns if '_temp_' in name]\n",
    "freq_features = [name for name in dataset.columns if (('_freq' in name) or ('_pse' in name))]\n",
    "print '#basic features: ', len(basic_features)\n",
    "print '#time features: ', len(time_features)\n",
    "print '#frequency features: ', len(freq_features)\n",
    "features_after_chapter_3 = list(set().union(basic_features))\n",
    "features_after_chapter_4 = list(set().union(basic_features, time_features, freq_features))"
   ]
  },
  {
   "cell_type": "code",
   "execution_count": 105,
   "metadata": {
    "scrolled": false
   },
   "outputs": [
    {
     "name": "stdout",
     "output_type": "stream",
     "text": [
      "0\n",
      "1\n",
      "2\n",
      "3\n",
      "4\n",
      "5\n",
      "6\n",
      "7\n",
      "8\n",
      "9\n",
      "10\n",
      "11\n",
      "12\n",
      "13\n",
      "14\n",
      "15\n",
      "16\n",
      "17\n",
      "18\n",
      "19\n",
      "20\n",
      "21\n",
      "22\n",
      "23\n",
      "24\n",
      "25\n",
      "26\n",
      "27\n",
      "28\n",
      "29\n",
      "30\n",
      "31\n",
      "32\n",
      "33\n",
      "34\n",
      "35\n",
      "36\n",
      "37\n",
      "38\n",
      "39\n",
      "40\n",
      "41\n",
      "42\n",
      "43\n",
      "44\n",
      "45\n",
      "46\n",
      "47\n",
      "48\n",
      "49\n",
      "50\n",
      "51\n",
      "52\n",
      "53\n",
      "54\n",
      "55\n",
      "56\n",
      "57\n",
      "58\n",
      "59\n",
      "60\n",
      "61\n",
      "62\n",
      "63\n",
      "64\n",
      "65\n",
      "66\n",
      "67\n",
      "68\n",
      "69\n",
      "70\n",
      "71\n",
      "72\n",
      "73\n",
      "74\n",
      "75\n",
      "76\n",
      "77\n",
      "78\n",
      "79\n",
      "80\n",
      "81\n",
      "[0.89316770186335404, 0.97391304347826091, 0.98881987577639752, 0.99627329192546588, 0.99751552795031051, 0.99875776397515525, 1.0, 1.0, 1.0, 1.0, 1.0, 1.0, 1.0, 1.0, 1.0, 1.0, 1.0, 1.0, 1.0, 1.0, 1.0, 1.0, 1.0, 1.0, 1.0, 1.0, 1.0, 1.0, 1.0, 1.0, 1.0, 1.0, 1.0, 1.0, 1.0, 1.0, 1.0, 1.0, 1.0, 1.0, 1.0, 1.0, 1.0, 1.0, 1.0, 1.0, 1.0, 1.0, 1.0, 1.0, 1.0, 1.0, 1.0, 1.0, 1.0, 1.0, 1.0, 1.0, 1.0, 1.0, 1.0, 1.0, 1.0, 1.0, 1.0, 1.0, 1.0, 1.0, 1.0, 1.0, 1.0, 1.0, 1.0, 1.0, 1.0, 1.0, 1.0, 1.0, 1.0, 0.99875776397515525, 0.99378881987577639, 0.99627329192546588]\n",
      "['gyr_r_freq_0.0_Hz_ws_50', 'acc_z_temp_mean_ws_5', 'acc_y_temp_std_ws_5', 'acc_x', 'acc_r_freq_0.5_Hz_ws_50', 'gyr_r_pse', 'acc_r_freq_0.4_Hz_ws_50', 'gyr_r_freq_2.0_Hz_ws_50', 'acc_r_freq_1.2_Hz_ws_50', 'acc_r_temp_std_ws_5', 'acc_y_temp_mean_ws_5', 'acc_r_freq_0.8_Hz_ws_50', 'acc_r_freq_1.5_Hz_ws_50', 'acc_r_freq_0.7_Hz_ws_50', 'gyr_r_freq_0.9_Hz_ws_50', 'acc_r_freq_1.9_Hz_ws_50', 'acc_r_freq_2.1_Hz_ws_50', 'gyr_r_freq_1.1_Hz_ws_50', 'gyr_r_freq_0.4_Hz_ws_50', 'gyr_r_freq_0.1_Hz_ws_50', 'gyr_r_freq_0.2_Hz_ws_50', 'acc_r_freq_weighted', 'gyr_r_freq_1.7_Hz_ws_50', 'gyr_z_temp_mean_ws_5', 'gyr_r_freq_0.6_Hz_ws_50', 'gyr_r_max_freq', 'gyr_r_freq_2.3_Hz_ws_50', 'acc_r_freq_1.6_Hz_ws_50', 'gyr_r_freq_1.2_Hz_ws_50', 'acc_r_freq_2.5_Hz_ws_50', 'gyr_r_freq_1.3_Hz_ws_50', 'gyr_r', 'gyr_r_freq_1.6_Hz_ws_50', 'acc_r_freq_1.7_Hz_ws_50', 'gyr_x_temp_mean_ws_5', 'gyr_r_freq_1.5_Hz_ws_50', 'gyr_r_freq_2.1_Hz_ws_50', 'gyr_z_temp_std_ws_5', 'gyr_z', 'gyr_r_freq_1.4_Hz_ws_50', 'acc_x_temp_std_ws_5', 'gyr_x', 'gyr_y', 'gyr_r_temp_mean_ws_5', 'gyr_r_freq_0.3_Hz_ws_50', 'gyr_r_freq_1.0_Hz_ws_50', 'acc_r_freq_0.3_Hz_ws_50', 'gyr_y_temp_mean_ws_5', 'acc_r_freq_0.1_Hz_ws_50', 'acc_r_freq_1.8_Hz_ws_50', 'acc_x_temp_mean_ws_5', 'acc_z_temp_std_ws_5', 'gyr_r_freq_0.5_Hz_ws_50', 'gyr_r_freq_2.4_Hz_ws_50', 'gyr_r_freq_1.8_Hz_ws_50', 'acc_r_freq_0.0_Hz_ws_50', 'acc_r_freq_1.1_Hz_ws_50', 'acc_r_freq_2.0_Hz_ws_50', 'gyr_r_freq_2.2_Hz_ws_50', 'acc_r_freq_1.0_Hz_ws_50', 'acc_r_freq_0.2_Hz_ws_50', 'acc_r_freq_1.3_Hz_ws_50', 'gyr_r_freq_0.7_Hz_ws_50', 'acc_r_temp_mean_ws_5', 'acc_r_freq_2.3_Hz_ws_50', 'acc_r_freq_2.2_Hz_ws_50', 'acc_r_freq_0.6_Hz_ws_50', 'gyr_r_freq_0.8_Hz_ws_50', 'acc_r_freq_1.4_Hz_ws_50', 'acc_r_max_freq', 'acc_r_freq_2.4_Hz_ws_50', 'gyr_r_freq_1.9_Hz_ws_50', 'acc_r', 'acc_r_freq_0.9_Hz_ws_50', 'acc_z', 'gyr_r_freq_weighted', 'gyr_x_temp_std_ws_5', 'acc_y', 'gyr_r_freq_2.5_Hz_ws_50', 'gyr_r_temp_std_ws_5', 'gyr_y_temp_std_ws_5', 'acc_r_pse']\n"
     ]
    },
    {
     "data": {
      "image/png": "[encoded data removed]",
      "text/plain": [
       "<Figure size 432x288 with 1 Axes>"
      ]
     },
     "metadata": {
      "needs_background": "light"
     },
     "output_type": "display_data"
    }
   ],
   "source": [
    "#First, let us consider the performance over a selection of features:\n",
    "\n",
    "fs = FeatureSelectionClassification()\n",
    "\n",
    "features, ordered_features, ordered_scores = fs.forward_selection(82, train_X[features_after_chapter_4], train_y)\n",
    "print ordered_scores\n",
    "print ordered_features\n",
    "\n",
    "plot.plot(range(1, 83), ordered_scores)\n",
    "plot.xlabel('number of features')\n",
    "plot.ylabel('accuracy')\n",
    "plot.show()"
   ]
  },
  {
   "cell_type": "code",
   "execution_count": 108,
   "metadata": {},
   "outputs": [],
   "source": [
    "selected_features = ordered_features[:10]"
   ]
  },
  {
   "cell_type": "code",
   "execution_count": 110,
   "metadata": {},
   "outputs": [],
   "source": [
    "learner = ClassificationAlgorithms()\n",
    "eval = ClassificationEvaluation()"
   ]
  },
  {
   "cell_type": "code",
   "execution_count": null,
   "metadata": {},
   "outputs": [
    {
     "name": "stdout",
     "output_type": "stream",
     "text": [
      "initial set  &  0.8484 \\emph{( 0.8232 - 0.8737 )}  &  0.8493 \\emph{( 0.8108 - 0.8878 )}  &  0.9816 \\emph{( 0.9721 - 0.9911 )}  &  0.8962 \\emph{( 0.8634 - 0.9291 )}  &  0.8509 \\emph{( 0.8258 - 0.8760 )}  &  0.8464 \\emph{( 0.8076 - 0.8852 )}  &  0.8907 \\emph{( 0.8687 - 0.9127 )}  &  0.8290 \\emph{( 0.7884 - 0.8695 )}  &  0.9776 \\emph{( 0.9672 - 0.9881 )}  &  0.8725 \\emph{( 0.8365 - 0.9084 )}  &  0.7665 \\emph{( 0.7366 - 0.7963 )}  &  0.7768 \\emph{( 0.7320 - 0.8216 )} \\\\\\hline\n",
      "Chapter 3  &  0.8484 \\emph{( 0.8232 - 0.8737 )}  &  0.8493 \\emph{( 0.8108 - 0.8878 )}  &  0.9826 \\emph{( 0.9734 - 0.9918 )}  &  0.9026 \\emph{( 0.8707 - 0.9345 )}  &  0.8509 \\emph{( 0.8258 - 0.8760 )}  &  0.8464 \\emph{( 0.8076 - 0.8852 )}  &  0.8907 \\emph{( 0.8687 - 0.9127 )}  &  0.8290 \\emph{( 0.7884 - 0.8695 )}  &  0.9764 \\emph{( 0.9657 - 0.9871 )}  &  0.8754 \\emph{( 0.8398 - 0.9109 )}  &  0.7665 \\emph{( 0.7366 - 0.7963 )}  &  0.7768 \\emph{( 0.7320 - 0.8216 )} \\\\\\hline\n"
     ]
    },
    {
     "name": "stderr",
     "output_type": "stream",
     "text": [
      "C:\\Users\\davee\\Anaconda3\\envs\\ml4qs\\lib\\site-packages\\sklearn\\neural_network\\multilayer_perceptron.py:563: ConvergenceWarning: Stochastic Optimizer: Maximum iterations reached and the optimization hasn't converged yet.\n",
      "  % (), ConvergenceWarning)\n"
     ]
    },
    {
     "name": "stdout",
     "output_type": "stream",
     "text": [
      "Chapter 4  &  0.8877 \\emph{( 0.8654 - 0.9100 )}  &  0.8551 \\emph{( 0.8172 - 0.8930 )}  &  0.9993 \\emph{( 0.9973 - 1.0012 )}  &  0.9559 \\emph{( 0.9338 - 0.9780 )}  &  1.0000 \\emph{( 1.0000 - 1.0000 )}  &  0.8870 \\emph{( 0.8529 - 0.9211 )}  &  0.9553 \\emph{( 0.9407 - 0.9698 )}  &  0.9043 \\emph{( 0.8727 - 0.9360 )}  &  0.9963 \\emph{( 0.9920 - 1.0006 )}  &  0.9536 \\emph{( 0.9310 - 0.9763 )}  &  0.9019 \\emph{( 0.8809 - 0.9228 )}  &  0.9333 \\emph{( 0.9065 - 0.9602 )} \\\\\\hline\n"
     ]
    }
   ],
   "source": [
    "possible_feature_sets = [basic_features, features_after_chapter_3, features_after_chapter_4, selected_features]\n",
    "feature_names = ['initial set', 'Chapter 3', 'Chapter 4', 'Selected features']\n",
    "repeats = 5\n",
    "\n",
    "scores_over_all_algs = []\n",
    "\n",
    "for i in range(0, len(possible_feature_sets)):\n",
    "    selected_train_X = train_X[possible_feature_sets[i]]\n",
    "    selected_test_X = test_X[possible_feature_sets[i]]\n",
    "\n",
    "    # First we run our non deterministic classifiers a number of times to average their score.\n",
    "\n",
    "    performance_tr_nn = 0\n",
    "    performance_tr_rf = 0\n",
    "    performance_tr_svm = 0\n",
    "    performance_te_nn = 0\n",
    "    performance_te_rf = 0\n",
    "    performance_te_svm = 0\n",
    "\n",
    "    for repeat in range(0, repeats):\n",
    "        class_train_y, class_test_y, class_train_prob_y, class_test_prob_y = learner.feedforward_neural_network(selected_train_X, train_y, selected_test_X, gridsearch=True)\n",
    "        performance_tr_nn += eval.accuracy(train_y, class_train_y)\n",
    "        performance_te_nn += eval.accuracy(test_y, class_test_y)\n",
    "\n",
    "        class_train_y, class_test_y, class_train_prob_y, class_test_prob_y, model = learner.random_forest(selected_train_X, train_y, selected_test_X, gridsearch=True)\n",
    "        performance_tr_rf += eval.accuracy(train_y, class_train_y)\n",
    "        performance_te_rf += eval.accuracy(test_y, class_test_y)\n",
    "\n",
    "        class_train_y, class_test_y, class_train_prob_y, class_test_prob_y = learner.support_vector_machine_with_kernel(selected_train_X, train_y, selected_test_X, gridsearch=True)\n",
    "        performance_tr_svm += eval.accuracy(train_y, class_train_y)\n",
    "        performance_te_svm += eval.accuracy(test_y, class_test_y)\n",
    "\n",
    "\n",
    "    overall_performance_tr_nn = performance_tr_nn/repeats\n",
    "    overall_performance_te_nn = performance_te_nn/repeats\n",
    "    overall_performance_tr_rf = performance_tr_rf/repeats\n",
    "    overall_performance_te_rf = performance_te_rf/repeats\n",
    "    overall_performance_tr_svm = performance_tr_svm/repeats\n",
    "    overall_performance_te_svm = performance_te_svm/repeats\n",
    "\n",
    "    # And we run our deterministic classifiers:\n",
    "\n",
    "\n",
    "    class_train_y, class_test_y, class_train_prob_y, class_test_prob_y = learner.k_nearest_neighbor(selected_train_X, train_y, selected_test_X, gridsearch=True)\n",
    "    performance_tr_knn = eval.accuracy(train_y, class_train_y)\n",
    "    performance_te_knn = eval.accuracy(test_y, class_test_y)\n",
    "\n",
    "    class_train_y, class_test_y, class_train_prob_y, class_test_prob_y = learner.decision_tree(selected_train_X, train_y, selected_test_X, gridsearch=True)\n",
    "    performance_tr_dt = eval.accuracy(train_y, class_train_y)\n",
    "    performance_te_dt = eval.accuracy(test_y, class_test_y)\n",
    "\n",
    "    class_train_y, class_test_y, class_train_prob_y, class_test_prob_y = learner.naive_bayes(selected_train_X, train_y, selected_test_X)\n",
    "    performance_tr_nb = eval.accuracy(train_y, class_train_y)\n",
    "    performance_te_nb = eval.accuracy(test_y, class_test_y)\n",
    "\n",
    "    scores_with_sd = util.print_table_row_performances(feature_names[i], len(selected_train_X.index), len(selected_test_X.index), [\n",
    "                                                                                                (overall_performance_tr_nn, overall_performance_te_nn),\n",
    "                                                                                                (overall_performance_tr_rf, overall_performance_te_rf),\n",
    "                                                                                                (overall_performance_tr_svm, overall_performance_te_svm),\n",
    "                                                                                                (performance_tr_knn, performance_te_knn),\n",
    "                                                                                                (performance_tr_dt, performance_te_dt),\n",
    "                                                                                                (performance_tr_nb, performance_te_nb)])\n",
    "    scores_over_all_algs.append(scores_with_sd)"
   ]
  }
 ],
 "metadata": {
  "kernelspec": {
   "display_name": "Python 2",
   "language": "python",
   "name": "python2"
  },
  "language_info": {
   "codemirror_mode": {
    "name": "ipython",
    "version": 2
   },
   "file_extension": ".py",
   "mimetype": "text/x-python",
   "name": "python",
   "nbconvert_exporter": "python",
   "pygments_lexer": "ipython2",
   "version": "2.7.15"
  }
 },
 "nbformat": 4,
 "nbformat_minor": 2
}
