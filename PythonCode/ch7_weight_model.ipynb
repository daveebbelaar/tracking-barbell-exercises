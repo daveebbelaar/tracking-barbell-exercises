{
 "cells": [
  {
   "cell_type": "markdown",
   "metadata": {},
   "source": [
    "### Mark Hoogendoorn and Burkhardt Funk (2017)              \n",
    "Machine Learning for the Quantified Self               \n",
    "Springer\n",
    "Chapter 7    "
   ]
  },
  {
   "cell_type": "code",
   "execution_count": 14,
   "metadata": {},
   "outputs": [],
   "source": [
    "from util.VisualizeDataset import VisualizeDataset\n",
    "from Chapter7.PrepareDatasetForLearning import PrepareDatasetForLearning\n",
    "from Chapter7.LearningAlgorithms import ClassificationAlgorithms\n",
    "from Chapter7.LearningAlgorithms import RegressionAlgorithms\n",
    "from Chapter7.Evaluation import ClassificationEvaluation\n",
    "from Chapter7.Evaluation import RegressionEvaluation\n",
    "from Chapter7.FeatureSelection import FeatureSelectionClassification\n",
    "from Chapter7.FeatureSelection import FeatureSelectionRegression\n",
    "import copy\n",
    "import pandas as pd\n",
    "from util import util\n",
    "import matplotlib.pyplot as plot\n",
    "import numpy as np\n",
    "from sklearn.model_selection import train_test_split\n",
    "from sklearn.metrics import confusion_matrix\n",
    "from sklearn.metrics import classification_report\n",
    "from sklearn.metrics import accuracy_score\n",
    "from util import ClassificationReport\n",
    "import os"
   ]
  },
  {
   "cell_type": "code",
   "execution_count": 15,
   "metadata": {},
   "outputs": [],
   "source": [
    "DataViz = VisualizeDataset()\n",
    "\n",
    "# Read the result from the previous chapter, and make sure the index is of the type datetime.\n",
    "dataset_path = 'intermediate_datafiles/'\n",
    "\n",
    "export_tree_path = 'Example_graphs/Chapter7/'\n",
    "\n",
    "try:\n",
    "    dataset = pd.read_csv(dataset_path + 'chapter5_result.csv', index_col=0)\n",
    "except IOError as e:\n",
    "    print('File not found, try to run previous crowdsignals scripts first!')\n",
    "    raise e\n",
    "\n",
    "if not os.path.exists(export_tree_path):\n",
    "    os.makedirs(export_tree_path)\n",
    "\n",
    "dataset.index = pd.to_datetime(dataset.index, format='%Y-%m-%d %H:%M:%S.%f'[:-3])"
   ]
  },
  {
   "cell_type": "code",
   "execution_count": 16,
   "metadata": {},
   "outputs": [],
   "source": [
    "del dataset['participant']\n",
    "del dataset['set']"
   ]
  },
  {
   "cell_type": "code",
   "execution_count": 17,
   "metadata": {},
   "outputs": [],
   "source": [
    "dataset_heavy = dataset[dataset['category'] == 'heavy']\n",
    "dataset_medium = dataset[dataset['category'] == 'medium']"
   ]
  },
  {
   "cell_type": "code",
   "execution_count": 18,
   "metadata": {},
   "outputs": [],
   "source": [
    "del dataset_heavy['category']\n",
    "del dataset_medium['category']"
   ]
  },
  {
   "cell_type": "code",
   "execution_count": 19,
   "metadata": {},
   "outputs": [
    {
     "name": "stdout",
     "output_type": "stream",
     "text": [
      "Training set length is:  1604\n",
      "Test set length is:  688\n",
      "#basic features:  6\n",
      "#PCA features:  4\n",
      "#time features:  12\n",
      "#frequency features:  0\n",
      "#cluster features:  1\n"
     ]
    }
   ],
   "source": [
    "# Let us consider our first task, namely the prediction of the label. We consider this as a non-temporal task.\n",
    "\n",
    "# We create a single column with the categorical attribute representing our class. Furthermore, we use 70% of our data\n",
    "# for training and the remaining 30% as an independent test set. We select the sets based on stratified sampling. We remove\n",
    "# cases where we do not know the label.\n",
    "\n",
    "prepare = PrepareDatasetForLearning()\n",
    "\n",
    "train_X, test_X, train_y, test_y = prepare.split_single_dataset_classification(dataset_heavy, ['label'], 'like', 0.7, filter=True, temporal=False)\n",
    "\n",
    "print 'Training set length is: ', len(train_X.index)\n",
    "print 'Test set length is: ', len(test_X.index)\n",
    "\n",
    "# Select subsets of the features that we will consider:\n",
    "\n",
    "basic_features = ['x_gyr','y_gyr','z_gyr', 'x_acc','y_acc','z_acc']\n",
    "pca_features = ['pca_1','pca_2', 'pca_3','pca_4']\n",
    "time_features = [name for name in dataset.columns if '_temp_' in name]\n",
    "freq_features = [name for name in dataset.columns if (('_freq' in name) or ('_pse' in name))]\n",
    "print '#basic features: ', len(basic_features)\n",
    "print '#PCA features: ', len(pca_features)\n",
    "print '#time features: ', len(time_features)\n",
    "print '#frequency features: ', len(freq_features)\n",
    "cluster_features = ['cluster']\n",
    "print '#cluster features: ', len(cluster_features)\n",
    "features_after_chapter_3 = list(set().union(basic_features, pca_features))\n",
    "features_after_chapter_4 = list(set().union(basic_features, pca_features, time_features, freq_features))\n",
    "features_after_chapter_5 = list(set().union(basic_features, pca_features, time_features, freq_features, cluster_features))"
   ]
  },
  {
   "cell_type": "code",
   "execution_count": 20,
   "metadata": {},
   "outputs": [],
   "source": [
    "learner = ClassificationAlgorithms()\n",
    "eval = ClassificationEvaluation()"
   ]
  },
  {
   "cell_type": "code",
   "execution_count": 21,
   "metadata": {},
   "outputs": [
    {
     "name": "stdout",
     "output_type": "stream",
     "text": [
      "{'n_estimators': 100, 'criterion': 'entropy', 'min_samples_leaf': 2}\n",
      "Feature importance random forest:\n",
      "pca_1  &  0.142609865741\n",
      "acc_y_temp_mean_ws_4  &  0.10551871017\n",
      "cluster  &  0.094704485853\n",
      "acc_y  &  0.0876466789685\n",
      "acc_z  &  0.0821596672446\n",
      "acc_x_temp_mean_ws_4  &  0.078872991003\n",
      "pca_2  &  0.0691654400208\n",
      "gyr_z_temp_std_ws_4  &  0.0672248690173\n",
      "acc_z_temp_mean_ws_4  &  0.0505857917577\n",
      "acc_x  &  0.0424678077654\n",
      "gyr_x_temp_std_ws_4  &  0.0367688787258\n",
      "acc_x_temp_std_ws_4  &  0.0316850094258\n",
      "acc_y_temp_std_ws_4  &  0.0179038695445\n",
      "acc_z_temp_std_ws_4  &  0.0138512597605\n",
      "pca_4  &  0.0115474986966\n",
      "gyr_z  &  0.0110351361329\n",
      "gyr_z_temp_mean_ws_4  &  0.00915003807013\n",
      "pca_3  &  0.00896354220366\n",
      "gyr_x  &  0.00879809896691\n",
      "gyr_x_temp_mean_ws_4  &  0.00814132112256\n",
      "gyr_y_temp_std_ws_4  &  0.00748771965853\n",
      "gyr_y_temp_mean_ws_4  &  0.00732400803356\n",
      "gyr_y  &  0.00638731211688\n"
     ]
    }
   ],
   "source": [
    "class_train_y, class_test_y, class_train_prob_y, class_test_prob_y, model = learner.random_forest(train_X[list(train_X)], train_y, test_X[list(train_X)],\n",
    "                                                                                           gridsearch=True, print_model_details=True)"
   ]
  },
  {
   "cell_type": "code",
   "execution_count": 22,
   "metadata": {},
   "outputs": [
    {
     "data": {
      "image/png": "[encoded data removed]",
      "text/plain": [
       "<Figure size 432x288 with 2 Axes>"
      ]
     },
     "metadata": {
      "needs_background": "light"
     },
     "output_type": "display_data"
    }
   ],
   "source": [
    "test_cm = eval.confusion_matrix(test_y, class_test_y, class_train_prob_y.columns)\n",
    "DataViz.plot_confusion_matrix(test_cm, class_train_prob_y.columns, normalize=False)"
   ]
  },
  {
   "cell_type": "code",
   "execution_count": 23,
   "metadata": {},
   "outputs": [
    {
     "data": {
      "text/plain": [
       "0.96220930232558144"
      ]
     },
     "execution_count": 23,
     "metadata": {},
     "output_type": "execute_result"
    }
   ],
   "source": [
    "accuracy_score(test_y, class_test_y)"
   ]
  },
  {
   "cell_type": "markdown",
   "metadata": {},
   "source": [
    "## Prepare medium for training"
   ]
  },
  {
   "cell_type": "code",
   "execution_count": 24,
   "metadata": {},
   "outputs": [],
   "source": [
    "m_train_X, m_test_X, m_train_y, m_test_y = prepare.split_single_dataset_classification(dataset_medium, ['label'], 'like', 0.05, filter=True, temporal=False)"
   ]
  },
  {
   "cell_type": "code",
   "execution_count": 25,
   "metadata": {},
   "outputs": [],
   "source": [
    "pred_prob_training_y = model.predict_proba(m_train_X)\n",
    "pred_prob_test_y = model.predict_proba(m_test_X)\n",
    "pred_training_y = model.predict(m_train_X)\n",
    "pred_test_y = model.predict(m_test_X)\n",
    "frame_prob_training_y = pd.DataFrame(pred_prob_training_y, columns=model.classes_)\n",
    "frame_prob_test_y = pd.DataFrame(pred_prob_test_y, columns=model.classes_)"
   ]
  },
  {
   "cell_type": "code",
   "execution_count": 26,
   "metadata": {},
   "outputs": [
    {
     "data": {
      "image/png": "[encoded data removed]",
      "text/plain": [
       "<Figure size 432x288 with 2 Axes>"
      ]
     },
     "metadata": {
      "needs_background": "light"
     },
     "output_type": "display_data"
    }
   ],
   "source": [
    "test_cm = eval.confusion_matrix(m_test_y, pred_test_y, frame_prob_training_y.columns)\n",
    "DataViz.plot_confusion_matrix(test_cm, frame_prob_training_y.columns, normalize=False)"
   ]
  },
  {
   "cell_type": "code",
   "execution_count": 27,
   "metadata": {},
   "outputs": [
    {
     "data": {
      "text/plain": [
       "0.80777096114519431"
      ]
     },
     "execution_count": 27,
     "metadata": {},
     "output_type": "execute_result"
    }
   ],
   "source": [
    "accuracy_score(m_test_y, pred_test_y)"
   ]
  }
 ],
 "metadata": {
  "kernelspec": {
   "display_name": "Python 2",
   "language": "python",
   "name": "python2"
  },
  "language_info": {
   "codemirror_mode": {
    "name": "ipython",
    "version": 2
   },
   "file_extension": ".py",
   "mimetype": "text/x-python",
   "name": "python",
   "nbconvert_exporter": "python",
   "pygments_lexer": "ipython2",
   "version": "2.7.15"
  }
 },
 "nbformat": 4,
 "nbformat_minor": 2
}
