{
 "cells": [
  {
   "cell_type": "markdown",
   "metadata": {},
   "source": [
    "### Mark Hoogendoorn and Burkhardt Funk (2017)              \n",
    "Machine Learning for the Quantified Self               \n",
    "Springer,\n",
    "Chapter 7    "
   ]
  },
  {
   "cell_type": "code",
   "execution_count": 36,
   "metadata": {},
   "outputs": [],
   "source": [
    "from util.VisualizeDataset import VisualizeDataset\n",
    "from Chapter7.PrepareDatasetForLearning import PrepareDatasetForLearning\n",
    "from Chapter7.LearningAlgorithms import ClassificationAlgorithms\n",
    "from Chapter7.LearningAlgorithms import RegressionAlgorithms\n",
    "from Chapter7.Evaluation import ClassificationEvaluation\n",
    "from Chapter7.Evaluation import RegressionEvaluation\n",
    "from Chapter7.FeatureSelection import FeatureSelectionClassification\n",
    "from Chapter7.FeatureSelection import FeatureSelectionRegression\n",
    "import copy\n",
    "import pandas as pd\n",
    "from util import util\n",
    "import matplotlib.pyplot as plot\n",
    "import numpy as np\n",
    "from sklearn.model_selection import train_test_split\n",
    "from sklearn.metrics import confusion_matrix\n",
    "from sklearn.metrics import classification_report\n",
    "from sklearn.metrics import accuracy_score\n",
    "from util import ClassificationReport\n",
    "import os"
   ]
  },
  {
   "cell_type": "code",
   "execution_count": 37,
   "metadata": {},
   "outputs": [],
   "source": [
    "DataViz = VisualizeDataset()\n",
    "\n",
    "# Read the result from the previous chapter, and make sure the index is of the type datetime.\n",
    "dataset_path = 'intermediate_datafiles/'\n",
    "\n",
    "export_tree_path = 'Example_graphs/Chapter7/'\n",
    "\n",
    "try:\n",
    "    dataset = pd.read_csv(dataset_path + 'chapter5_result.csv', index_col=0)\n",
    "except IOError as e:\n",
    "    print('File not found, try to run previous crowdsignals scripts first!')\n",
    "    raise e\n",
    "\n",
    "if not os.path.exists(export_tree_path):\n",
    "    os.makedirs(export_tree_path)\n",
    "\n",
    "dataset.index = pd.to_datetime(dataset.index, format='%Y-%m-%d %H:%M:%S.%f'[:-3])"
   ]
  },
  {
   "cell_type": "code",
   "execution_count": 38,
   "metadata": {},
   "outputs": [],
   "source": [
    "# Remove unnecessary columns\n",
    "del dataset['participant']\n",
    "del dataset['set']"
   ]
  },
  {
   "cell_type": "code",
   "execution_count": 39,
   "metadata": {},
   "outputs": [],
   "source": [
    "# Split data according to weight\n",
    "dataset_heavy = dataset[dataset['category'] == 'heavy']\n",
    "dataset_medium = dataset[dataset['category'] == 'medium']"
   ]
  },
  {
   "cell_type": "code",
   "execution_count": 40,
   "metadata": {},
   "outputs": [],
   "source": [
    "# Remove unnecessary columns\n",
    "del dataset_heavy['category']\n",
    "del dataset_medium['category']"
   ]
  },
  {
   "cell_type": "code",
   "execution_count": 41,
   "metadata": {},
   "outputs": [
    {
     "name": "stdout",
     "output_type": "stream",
     "text": [
      "Training set length is:  1551\n",
      "Test set length is:  666\n"
     ]
    }
   ],
   "source": [
    "# We create a single column with the categorical attribute representing our class. Furthermore, we use 70% of our data\n",
    "# for training and the remaining 30% as an independent test set. We select the sets based on stratified sampling.\n",
    "\n",
    "prepare = PrepareDatasetForLearning()\n",
    "\n",
    "train_X, test_X, train_y, test_y = prepare.split_single_dataset_classification(dataset_medium, ['label'], 'like', 0.7, filter=True, temporal=False)\n",
    "\n",
    "print 'Training set length is: ', len(train_X.index)\n",
    "print 'Test set length is: ', len(test_X.index)"
   ]
  },
  {
   "cell_type": "code",
   "execution_count": 42,
   "metadata": {},
   "outputs": [],
   "source": [
    "# Load algorithms\n",
    "learner = ClassificationAlgorithms()\n",
    "eval = ClassificationEvaluation()"
   ]
  },
  {
   "cell_type": "code",
   "execution_count": 43,
   "metadata": {},
   "outputs": [
    {
     "name": "stdout",
     "output_type": "stream",
     "text": [
      "{'n_estimators': 100, 'criterion': 'gini', 'min_samples_leaf': 2}\n",
      "Feature importance random forest:\n",
      "pca_1  &  0.0899250572774\n",
      "acc_y_temp_mean_ws_4  &  0.0891472203176\n",
      "pca_3  &  0.0716042892704\n",
      "cluster  &  0.0710532392431\n",
      "pca_2  &  0.0641657115277\n",
      "acc_z_temp_mean_ws_4  &  0.0641413158825\n",
      "gyr_z_temp_std_ws_4  &  0.0632600766565\n",
      "acc_x_temp_mean_ws_4  &  0.062082324262\n",
      "acc_y  &  0.0578163322069\n",
      "acc_y_temp_std_ws_4  &  0.0511561853151\n",
      "acc_z  &  0.0382778180248\n",
      "acc_x  &  0.0364967930707\n",
      "acc_x_temp_std_ws_4  &  0.0272213252861\n",
      "gyr_r_freq_0.0_Hz_ws_4  &  0.0253889677344\n",
      "gyr_r_temp_std_ws_4  &  0.0235364959004\n",
      "gyr_r_temp_mean_ws_4  &  0.0221945406563\n",
      "acc_r_temp_std_ws_4  &  0.0220982217346\n",
      "gyr_x_temp_std_ws_4  &  0.0187054498551\n",
      "gyr_z  &  0.0138501601366\n",
      "acc_z_temp_std_ws_4  &  0.0126632979998\n",
      "gyr_z_temp_mean_ws_4  &  0.0110024234512\n",
      "acc_r_freq_0.25_Hz_ws_4  &  0.0069970718911\n",
      "acc_r_pse  &  0.00677331665031\n",
      "acc_r_freq_0.0_Hz_ws_4  &  0.00594249223975\n",
      "gyr_x  &  0.00500998005031\n",
      "gyr_r  &  0.00450425808217\n",
      "acc_r_freq_weighted  &  0.00426533226867\n",
      "gyr_x_temp_mean_ws_4  &  0.00417904849473\n",
      "acc_r_temp_mean_ws_4  &  0.00387504795149\n",
      "gyr_y  &  0.00378914963452\n",
      "gyr_y_temp_std_ws_4  &  0.00353122771526\n",
      "acc_r  &  0.00313765740463\n",
      "gyr_y_temp_mean_ws_4  &  0.00304129495585\n",
      "acc_r_freq_0.5_Hz_ws_4  &  0.00282570745631\n",
      "gyr_r_freq_weighted  &  0.00192285475095\n",
      "gyr_r_freq_0.5_Hz_ws_4  &  0.00176147991703\n",
      "gyr_r_freq_0.25_Hz_ws_4  &  0.0016491475016\n",
      "gyr_r_pse  &  0.00100768722613\n",
      "acc_r_max_freq  &  0.0\n",
      "gyr_r_max_freq  &  0.0\n"
     ]
    }
   ],
   "source": [
    "# Train a random forest and predict class labels\n",
    "class_train_y, class_test_y, class_train_prob_y, class_test_prob_y, model = learner.random_forest(train_X, train_y, test_X,\n",
    "                                                                                           gridsearch=True, print_model_details=True)"
   ]
  },
  {
   "cell_type": "code",
   "execution_count": 44,
   "metadata": {
    "scrolled": true
   },
   "outputs": [
    {
     "data": {
      "image/png": "[encoded data removed]",
      "text/plain": [
       "<Figure size 432x288 with 2 Axes>"
      ]
     },
     "metadata": {
      "needs_background": "light"
     },
     "output_type": "display_data"
    }
   ],
   "source": [
    "# Performance on the test data of the same weight class\n",
    "test_cm = eval.confusion_matrix(test_y, class_test_y, class_train_prob_y.columns)\n",
    "DataViz.plot_confusion_matrix(test_cm, class_train_prob_y.columns, normalize=False)"
   ]
  },
  {
   "cell_type": "code",
   "execution_count": 45,
   "metadata": {},
   "outputs": [
    {
     "data": {
      "text/plain": [
       "0.99699699699699695"
      ]
     },
     "execution_count": 45,
     "metadata": {},
     "output_type": "execute_result"
    }
   ],
   "source": [
    "accuracy_score(test_y, class_test_y)"
   ]
  },
  {
   "cell_type": "code",
   "execution_count": 46,
   "metadata": {},
   "outputs": [],
   "source": [
    "# Prepare medium weight sets for testing\n",
    "# For convience, we use the prepare.split_single_dataset_classification again\n",
    "# but use 95% for the test split\n",
    "m_train_X, m_test_X, m_train_y, m_test_y = prepare.split_single_dataset_classification(dataset_heavy, ['label'], 'like', 0.05, filter=True, temporal=False)"
   ]
  },
  {
   "cell_type": "code",
   "execution_count": 47,
   "metadata": {},
   "outputs": [],
   "source": [
    "# Make predictions on the the other weight class using the trained model\n",
    "pred_prob_training_y = model.predict_proba(m_train_X)\n",
    "pred_prob_test_y = model.predict_proba(m_test_X)\n",
    "pred_training_y = model.predict(m_train_X)\n",
    "pred_test_y = model.predict(m_test_X)\n",
    "frame_prob_training_y = pd.DataFrame(pred_prob_training_y, columns=model.classes_)\n",
    "frame_prob_test_y = pd.DataFrame(pred_prob_test_y, columns=model.classes_)"
   ]
  },
  {
   "cell_type": "code",
   "execution_count": 48,
   "metadata": {},
   "outputs": [
    {
     "data": {
      "image/png": "[encoded data removed]",
      "text/plain": [
       "<Figure size 432x288 with 2 Axes>"
      ]
     },
     "metadata": {
      "needs_background": "light"
     },
     "output_type": "display_data"
    }
   ],
   "source": [
    "# Performance on the data of the other weight class\n",
    "test_cm = eval.confusion_matrix(m_test_y, pred_test_y, frame_prob_training_y.columns)\n",
    "DataViz.plot_confusion_matrix(test_cm, frame_prob_training_y.columns, normalize=False)"
   ]
  },
  {
   "cell_type": "code",
   "execution_count": 49,
   "metadata": {},
   "outputs": [
    {
     "data": {
      "text/plain": [
       "0.79513677811550154"
      ]
     },
     "execution_count": 49,
     "metadata": {},
     "output_type": "execute_result"
    }
   ],
   "source": [
    "accuracy_score(m_test_y, pred_test_y)"
   ]
  }
 ],
 "metadata": {
  "kernelspec": {
   "display_name": "Python 2",
   "language": "python",
   "name": "python2"
  },
  "language_info": {
   "codemirror_mode": {
    "name": "ipython",
    "version": 2
   },
   "file_extension": ".py",
   "mimetype": "text/x-python",
   "name": "python",
   "nbconvert_exporter": "python",
   "pygments_lexer": "ipython2",
   "version": "2.7.15"
  }
 },
 "nbformat": 4,
 "nbformat_minor": 2
}
