{
 "cells": [
  {
   "cell_type": "markdown",
   "metadata": {},
   "source": [
    "### Mark Hoogendoorn and Burkhardt Funk (2017)              \n",
    "Machine Learning for the Quantified Self               \n",
    "Springer,\n",
    "Chapter 7    "
   ]
  },
  {
   "cell_type": "code",
   "execution_count": 21,
   "metadata": {},
   "outputs": [],
   "source": [
    "from util.VisualizeDataset import VisualizeDataset\n",
    "from Chapter7.PrepareDatasetForLearning import PrepareDatasetForLearning\n",
    "from Chapter7.LearningAlgorithms import ClassificationAlgorithms\n",
    "from Chapter7.LearningAlgorithms import RegressionAlgorithms\n",
    "from Chapter7.Evaluation import ClassificationEvaluation\n",
    "from Chapter7.Evaluation import RegressionEvaluation\n",
    "from Chapter7.FeatureSelection import FeatureSelectionClassification\n",
    "from Chapter7.FeatureSelection import FeatureSelectionRegression\n",
    "import copy\n",
    "import pandas as pd\n",
    "from util import util\n",
    "import matplotlib.pyplot as plot\n",
    "import numpy as np\n",
    "from sklearn.model_selection import train_test_split\n",
    "from sklearn.metrics import confusion_matrix\n",
    "from sklearn.metrics import classification_report\n",
    "from sklearn.metrics import accuracy_score\n",
    "from sklearn.metrics import precision_recall_fscore_support\n",
    "from util import ClassificationReport\n",
    "import os"
   ]
  },
  {
   "cell_type": "code",
   "execution_count": 9,
   "metadata": {},
   "outputs": [],
   "source": [
    "DataViz = VisualizeDataset()\n",
    "\n",
    "# Read the result from the previous chapter, and make sure the index is of the type datetime.\n",
    "dataset_path = 'intermediate_datafiles/'\n",
    "\n",
    "export_tree_path = 'Example_graphs/Chapter7/'\n",
    "\n",
    "try:\n",
    "    dataset = pd.read_csv(dataset_path + 'chapter5_result.csv', index_col=0)\n",
    "except IOError as e:\n",
    "    print('File not found, try to run previous crowdsignals scripts first!')\n",
    "    raise e\n",
    "\n",
    "if not os.path.exists(export_tree_path):\n",
    "    os.makedirs(export_tree_path)\n",
    "\n",
    "dataset.index = pd.to_datetime(dataset.index, format='%Y-%m-%d %H:%M:%S.%f'[:-3])"
   ]
  },
  {
   "cell_type": "code",
   "execution_count": 10,
   "metadata": {},
   "outputs": [],
   "source": [
    "# Remove unnecessary columns\n",
    "del dataset['participant']\n",
    "del dataset['category']\n",
    "del dataset['set']"
   ]
  },
  {
   "cell_type": "code",
   "execution_count": 11,
   "metadata": {
    "scrolled": true
   },
   "outputs": [
    {
     "name": "stdout",
     "output_type": "stream",
     "text": [
      "Training set length is:  3152\n",
      "Test set length is:  1351\n"
     ]
    }
   ],
   "source": [
    "# We create a single column with the categorical attribute representing our class. Furthermore, we use 70% of our data\n",
    "# for training and the remaining 30% as an independent test set. We select the sets based on stratified sampling. We remove\n",
    "# cases where we do not know the label.\n",
    "\n",
    "prepare = PrepareDatasetForLearning()\n",
    "\n",
    "train_X, test_X, train_y, test_y = prepare.split_single_dataset_classification(dataset, ['label'], 'like', 0.7, filter=True, temporal=False)\n",
    "\n",
    "print 'Training set length is: ', len(train_X.index)\n",
    "print 'Test set length is: ', len(test_X.index)"
   ]
  },
  {
   "cell_type": "code",
   "execution_count": 12,
   "metadata": {},
   "outputs": [],
   "source": [
    "# Load algorithms\n",
    "learner = ClassificationAlgorithms()\n",
    "eval = ClassificationEvaluation()"
   ]
  },
  {
   "cell_type": "code",
   "execution_count": 13,
   "metadata": {},
   "outputs": [],
   "source": [
    "selected_features = ['gyr_r_freq_0.0_Hz_ws_50',\n",
    "                     'acc_y_temp_mean_ws_5',\n",
    "                     'acc_x_temp_mean_ws_5',\n",
    "                     'acc_y_temp_std_ws_5',\n",
    "                     'acc_x_temp_std_ws_5',\n",
    "                     'acc_z_temp_std_ws_5',\n",
    "                     'gyr_z',\n",
    "                     'gyr_r_freq_0.4_Hz_ws_50',\n",
    "                     'gyr_y_temp_mean_ws_5',\n",
    "                     'acc_r_freq_1.0_Hz_ws_50']"
   ]
  },
  {
   "cell_type": "code",
   "execution_count": 14,
   "metadata": {},
   "outputs": [
    {
     "name": "stdout",
     "output_type": "stream",
     "text": [
      "{'n_estimators': 100, 'criterion': 'entropy', 'min_samples_leaf': 2}\n",
      "Feature importance random forest:\n",
      "pca_1  &  0.117802272005\n",
      "acc_y  &  0.115349740151\n",
      "acc_y_temp_mean_ws_4  &  0.0844267390499\n",
      "cluster  &  0.0798234760051\n",
      "acc_z_temp_mean_ws_4  &  0.0734563574362\n",
      "acc_x_temp_mean_ws_4  &  0.0620890712448\n",
      "pca_2  &  0.0609691707881\n",
      "gyr_z_temp_std_ws_4  &  0.0529035082277\n",
      "acc_z  &  0.0440761820329\n",
      "acc_x  &  0.0434240963141\n",
      "pca_3  &  0.0332077593762\n",
      "gyr_r_temp_mean_ws_4  &  0.030503418668\n",
      "gyr_r_freq_0.0_Hz_ws_4  &  0.0287167736144\n",
      "gyr_r_temp_std_ws_4  &  0.0198025936887\n",
      "acc_y_temp_std_ws_4  &  0.0186492744612\n",
      "acc_r_temp_std_ws_4  &  0.0167611503721\n",
      "acc_x_temp_std_ws_4  &  0.0158824624557\n",
      "gyr_x_temp_std_ws_4  &  0.0104182658338\n",
      "acc_z_temp_std_ws_4  &  0.0099648730736\n",
      "gyr_y_temp_std_ws_4  &  0.00813864234959\n",
      "acc_r_pse  &  0.00771359786332\n",
      "acc_r_freq_0.0_Hz_ws_4  &  0.00656821960174\n",
      "gyr_z_temp_mean_ws_4  &  0.00582997987563\n",
      "acc_r_temp_mean_ws_4  &  0.00581937950234\n",
      "gyr_z  &  0.00574227550661\n",
      "gyr_x_temp_mean_ws_4  &  0.00495795411561\n",
      "gyr_y  &  0.00484585451554\n",
      "acc_r_freq_0.25_Hz_ws_4  &  0.00444147576605\n",
      "gyr_r  &  0.00391627092123\n",
      "gyr_y_temp_mean_ws_4  &  0.00391559084614\n",
      "acc_r  &  0.00361519782112\n",
      "acc_r_freq_weighted  &  0.00312799656698\n",
      "gyr_x  &  0.00280396095357\n",
      "acc_r_freq_0.5_Hz_ws_4  &  0.00250224266472\n",
      "gyr_r_freq_0.25_Hz_ws_4  &  0.00222499724062\n",
      "gyr_r_freq_weighted  &  0.00196915543904\n",
      "gyr_r_pse  &  0.00183700338248\n",
      "gyr_r_freq_0.5_Hz_ws_4  &  0.00180302026943\n",
      "acc_r_max_freq  &  0.0\n",
      "gyr_r_max_freq  &  0.0\n"
     ]
    }
   ],
   "source": [
    "# Train a random forest predict class labels\n",
    "class_train_y, class_test_y, class_train_prob_y, class_test_prob_y, model = learner.random_forest(train_X, train_y, test_X,\n",
    "                                                                                           gridsearch=True, print_model_details=True)"
   ]
  },
  {
   "cell_type": "code",
   "execution_count": 15,
   "metadata": {
    "scrolled": true
   },
   "outputs": [
    {
     "data": {
      "image/png": "[encoded data removed]",
      "text/plain": [
       "<Figure size 432x288 with 2 Axes>"
      ]
     },
     "metadata": {
      "needs_background": "light"
     },
     "output_type": "display_data"
    }
   ],
   "source": [
    "# Performance on the test set\n",
    "test_cm = eval.confusion_matrix(test_y, class_test_y, class_train_prob_y.columns)\n",
    "DataViz.plot_confusion_matrix(test_cm, class_train_prob_y.columns, normalize=False)"
   ]
  },
  {
   "cell_type": "code",
   "execution_count": 30,
   "metadata": {},
   "outputs": [],
   "source": [
    "import matplotlib.pyplot as plt\n",
    "import numpy as np\n",
    "\n",
    "def plot_classification_report(cr, title='Classification report ', with_avg_total=False, cmap=plt.cm.Blues):\n",
    "\n",
    "    lines = cr.split('\\n')\n",
    "\n",
    "    classes = []\n",
    "    plotMat = []\n",
    "    for line in lines[2 : (len(lines) - 3)]:\n",
    "        #print(line)\n",
    "        t = line.split()\n",
    "        # print(t)\n",
    "        classes.append(t[0])\n",
    "        v = [float(x) for x in t[1: len(t) - 1]]\n",
    "        print(v)\n",
    "        plotMat.append(v)\n",
    "\n",
    "    if with_avg_total:\n",
    "        aveTotal = lines[len(lines) - 1].split()\n",
    "        classes.append('avg/total')\n",
    "        vAveTotal = [float(x) for x in t[1:len(aveTotal) - 1]]\n",
    "        plotMat.append(vAveTotal)\n",
    "\n",
    "\n",
    "    plt.imshow(plotMat, interpolation='nearest', cmap=cmap)\n",
    "    plt.title(title)\n",
    "    plt.colorbar()\n",
    "    x_tick_marks = np.arange(3)\n",
    "    y_tick_marks = np.arange(len(classes))\n",
    "    plt.xticks(x_tick_marks, ['precision', 'recall', 'f1-score'], rotation=45)\n",
    "    plt.yticks(y_tick_marks, classes)\n",
    "    plt.tight_layout()\n",
    "    plt.ylabel('Classes')\n",
    "    plt.xlabel('Measures')"
   ]
  },
  {
   "cell_type": "code",
   "execution_count": 16,
   "metadata": {},
   "outputs": [],
   "source": [
    "cm = confusion_matrix(test_y, class_test_y, class_train_prob_y.columns)\n",
    "cr = classification_report(test_y, class_test_y, class_train_prob_y.columns)\n",
    "accuracy = accuracy_score(test_y, class_test_y)"
   ]
  },
  {
   "cell_type": "code",
   "execution_count": 34,
   "metadata": {},
   "outputs": [
    {
     "data": {
      "text/plain": [
       "(0.98559031229623306, 0.98519615099925983, 0.98518719060643622, None)"
      ]
     },
     "execution_count": 34,
     "metadata": {},
     "output_type": "execute_result"
    }
   ],
   "source": [
    "precision_recall_fscore_support(test_y, class_test_y, average='weighted')"
   ]
  },
  {
   "cell_type": "code",
   "execution_count": 24,
   "metadata": {
    "scrolled": true
   },
   "outputs": [
    {
     "data": {
      "text/plain": [
       "0.98519615099925983"
      ]
     },
     "execution_count": 24,
     "metadata": {},
     "output_type": "execute_result"
    }
   ],
   "source": [
    "accuracy"
   ]
  }
 ],
 "metadata": {
  "kernelspec": {
   "display_name": "Python 2",
   "language": "python",
   "name": "python2"
  },
  "language_info": {
   "codemirror_mode": {
    "name": "ipython",
    "version": 2
   },
   "file_extension": ".py",
   "mimetype": "text/x-python",
   "name": "python",
   "nbconvert_exporter": "python",
   "pygments_lexer": "ipython2",
   "version": "2.7.15"
  }
 },
 "nbformat": 4,
 "nbformat_minor": 2
}
