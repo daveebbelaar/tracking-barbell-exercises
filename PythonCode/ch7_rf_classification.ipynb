{
 "cells": [
  {
   "cell_type": "markdown",
   "metadata": {},
   "source": [
    "### Mark Hoogendoorn and Burkhardt Funk (2017)              \n",
    "Machine Learning for the Quantified Self               \n",
    "Springer,\n",
    "Chapter 7    "
   ]
  },
  {
   "cell_type": "code",
   "execution_count": 2,
   "metadata": {},
   "outputs": [],
   "source": [
    "from util.VisualizeDataset import VisualizeDataset\n",
    "from Chapter7.PrepareDatasetForLearning import PrepareDatasetForLearning\n",
    "from Chapter7.LearningAlgorithms import ClassificationAlgorithms\n",
    "from Chapter7.LearningAlgorithms import RegressionAlgorithms\n",
    "from Chapter7.Evaluation import ClassificationEvaluation\n",
    "from Chapter7.Evaluation import RegressionEvaluation\n",
    "from Chapter7.FeatureSelection import FeatureSelectionClassification\n",
    "from Chapter7.FeatureSelection import FeatureSelectionRegression\n",
    "import copy\n",
    "import pandas as pd\n",
    "from util import util\n",
    "import matplotlib.pyplot as plot\n",
    "import numpy as np\n",
    "from sklearn.model_selection import train_test_split\n",
    "from sklearn.metrics import confusion_matrix\n",
    "from sklearn.metrics import classification_report\n",
    "from sklearn.metrics import accuracy_score\n",
    "from util import ClassificationReport\n",
    "import os"
   ]
  },
  {
   "cell_type": "code",
   "execution_count": 3,
   "metadata": {},
   "outputs": [],
   "source": [
    "DataViz = VisualizeDataset()\n",
    "\n",
    "# Read the result from the previous chapter, and make sure the index is of the type datetime.\n",
    "dataset_path = 'intermediate_datafiles/'\n",
    "\n",
    "export_tree_path = 'Example_graphs/Chapter7/'\n",
    "\n",
    "try:\n",
    "    dataset = pd.read_csv(dataset_path + 'chapter5_result.csv', index_col=0)\n",
    "except IOError as e:\n",
    "    print('File not found, try to run previous crowdsignals scripts first!')\n",
    "    raise e\n",
    "\n",
    "if not os.path.exists(export_tree_path):\n",
    "    os.makedirs(export_tree_path)\n",
    "\n",
    "dataset.index = pd.to_datetime(dataset.index, format='%Y-%m-%d %H:%M:%S.%f'[:-3])"
   ]
  },
  {
   "cell_type": "code",
   "execution_count": 4,
   "metadata": {},
   "outputs": [],
   "source": [
    "# Remove unnecessary columns\n",
    "del dataset['participant']\n",
    "del dataset['category']\n",
    "del dataset['set']"
   ]
  },
  {
   "cell_type": "code",
   "execution_count": 5,
   "metadata": {},
   "outputs": [
    {
     "name": "stdout",
     "output_type": "stream",
     "text": [
      "Training set length is:  4236\n",
      "Test set length is:  1816\n"
     ]
    }
   ],
   "source": [
    "# We create a single column with the categorical attribute representing our class. Furthermore, we use 70% of our data\n",
    "# for training and the remaining 30% as an independent test set. We select the sets based on stratified sampling. We remove\n",
    "# cases where we do not know the label.\n",
    "\n",
    "prepare = PrepareDatasetForLearning()\n",
    "\n",
    "train_X, test_X, train_y, test_y = prepare.split_single_dataset_classification(dataset, ['label'], 'like', 0.7, filter=True, temporal=False)\n",
    "\n",
    "print 'Training set length is: ', len(train_X.index)\n",
    "print 'Test set length is: ', len(test_X.index)"
   ]
  },
  {
   "cell_type": "code",
   "execution_count": 6,
   "metadata": {},
   "outputs": [],
   "source": [
    "# Load algorithms\n",
    "learner = ClassificationAlgorithms()\n",
    "eval = ClassificationEvaluation()"
   ]
  },
  {
   "cell_type": "code",
   "execution_count": 7,
   "metadata": {},
   "outputs": [],
   "source": [
    "selected_features = ['gyr_r_freq_0.0_Hz_ws_50',\n",
    "                     'acc_y_temp_mean_ws_5',\n",
    "                     'acc_x_temp_mean_ws_5',\n",
    "                     'acc_y_temp_std_ws_5',\n",
    "                     'acc_x_temp_std_ws_5',\n",
    "                     'acc_z_temp_std_ws_5',\n",
    "                     'gyr_z',\n",
    "                     'gyr_r_freq_0.4_Hz_ws_50',\n",
    "                     'gyr_y_temp_mean_ws_5',\n",
    "                     'acc_r_freq_1.0_Hz_ws_50']"
   ]
  },
  {
   "cell_type": "code",
   "execution_count": 12,
   "metadata": {},
   "outputs": [
    {
     "name": "stdout",
     "output_type": "stream",
     "text": [
      "{'n_estimators': 100, 'criterion': 'gini', 'min_samples_leaf': 2}\n",
      "Feature importance random forest:\n",
      "cluster  &  0.0896847465558\n",
      "gyr_r_freq_0.0_Hz_ws_50  &  0.0860266904225\n",
      "pca_1  &  0.0594748720767\n",
      "acc_z  &  0.0573885963175\n",
      "acc_z_temp_mean_ws_5  &  0.0555952331359\n",
      "acc_y_temp_mean_ws_5  &  0.0546573397655\n",
      "pca_2  &  0.0541319600428\n",
      "acc_x_temp_mean_ws_5  &  0.0536787417472\n",
      "acc_y  &  0.0528341411602\n",
      "gyr_z_temp_std_ws_5  &  0.0477666319583\n",
      "acc_x  &  0.0386314674436\n",
      "gyr_r_temp_mean_ws_5  &  0.0323327201725\n",
      "acc_r_pse  &  0.0321239912937\n",
      "acc_x_temp_std_ws_5  &  0.0268430118706\n",
      "pca_3  &  0.026459417872\n",
      "acc_r_freq_0.0_Hz_ws_50  &  0.0259643420088\n",
      "acc_r_temp_std_ws_5  &  0.0214452570018\n",
      "acc_y_temp_std_ws_5  &  0.0210957500319\n",
      "gyr_r_temp_std_ws_5  &  0.0188512735314\n",
      "gyr_x_temp_std_ws_5  &  0.0138514141144\n",
      "acc_z_temp_std_ws_5  &  0.00996299698884\n",
      "gyr_y_temp_std_ws_5  &  0.00958096256858\n",
      "gyr_r_pse  &  0.00865264492078\n",
      "gyr_r  &  0.00703282364262\n",
      "gyr_z_temp_mean_ws_5  &  0.00607873659966\n",
      "gyr_z  &  0.00605442760894\n",
      "acc_r_temp_mean_ws_5  &  0.00387450169126\n",
      "gyr_r_freq_0.1_Hz_ws_50  &  0.00352143509527\n",
      "acc_r_freq_0.3_Hz_ws_50  &  0.00348599572094\n",
      "gyr_r_freq_1.8_Hz_ws_50  &  0.00279102459026\n",
      "gyr_r_freq_0.4_Hz_ws_50  &  0.00276737987725\n",
      "acc_r_freq_1.1_Hz_ws_50  &  0.00276569250237\n",
      "gyr_x_temp_mean_ws_5  &  0.00275426546557\n",
      "gyr_r_freq_0.3_Hz_ws_50  &  0.00264227724111\n",
      "gyr_y_temp_mean_ws_5  &  0.00251026837501\n",
      "acc_r  &  0.00248811913726\n",
      "acc_r_freq_0.6_Hz_ws_50  &  0.00206798626549\n",
      "gyr_r_freq_0.2_Hz_ws_50  &  0.00188627207528\n",
      "acc_r_freq_0.9_Hz_ws_50  &  0.00186205739428\n",
      "gyr_r_freq_1.4_Hz_ws_50  &  0.0018343717959\n",
      "acc_r_freq_0.5_Hz_ws_50  &  0.00170565176033\n",
      "acc_r_freq_0.7_Hz_ws_50  &  0.00160872430567\n",
      "gyr_y  &  0.00157670657317\n",
      "acc_r_freq_1.2_Hz_ws_50  &  0.00153227908355\n",
      "acc_r_freq_0.8_Hz_ws_50  &  0.00151628839478\n",
      "acc_r_freq_0.4_Hz_ws_50  &  0.00151275722701\n",
      "gyr_r_freq_0.5_Hz_ws_50  &  0.0014760374198\n",
      "gyr_x  &  0.00147367691136\n",
      "acc_r_freq_0.2_Hz_ws_50  &  0.00142443024398\n",
      "acc_r_freq_1.0_Hz_ws_50  &  0.00141859314072\n",
      "gyr_r_freq_1.9_Hz_ws_50  &  0.00141131303751\n",
      "gyr_r_freq_2.4_Hz_ws_50  &  0.00140880066814\n",
      "gyr_r_freq_0.6_Hz_ws_50  &  0.00135942892885\n",
      "gyr_r_freq_0.9_Hz_ws_50  &  0.0012008816486\n",
      "gyr_r_freq_1.1_Hz_ws_50  &  0.00119620356548\n",
      "acc_r_freq_weighted  &  0.00111213506462\n",
      "gyr_r_freq_1.5_Hz_ws_50  &  0.0011112181328\n",
      "gyr_r_freq_2.0_Hz_ws_50  &  0.00108648924233\n",
      "gyr_r_freq_2.1_Hz_ws_50  &  0.0010832236269\n",
      "gyr_r_freq_2.5_Hz_ws_50  &  0.00108179335153\n",
      "gyr_r_freq_0.7_Hz_ws_50  &  0.00102800544392\n",
      "gyr_r_freq_0.8_Hz_ws_50  &  0.00101470227842\n",
      "acc_r_freq_2.3_Hz_ws_50  &  0.00101317302413\n",
      "acc_r_freq_1.5_Hz_ws_50  &  0.00100497302096\n",
      "acc_r_freq_1.3_Hz_ws_50  &  0.000979054750497\n",
      "acc_r_freq_2.5_Hz_ws_50  &  0.000961529991972\n",
      "gyr_r_freq_1.7_Hz_ws_50  &  0.000949035871044\n",
      "acc_r_freq_2.0_Hz_ws_50  &  0.000939707465775\n",
      "acc_r_freq_2.4_Hz_ws_50  &  0.00089517475211\n",
      "acc_r_freq_1.7_Hz_ws_50  &  0.000890049734871\n",
      "gyr_r_freq_2.2_Hz_ws_50  &  0.000824473252616\n",
      "acc_r_freq_0.1_Hz_ws_50  &  0.000819813498019\n",
      "acc_r_freq_2.1_Hz_ws_50  &  0.000769644124288\n",
      "gyr_r_freq_1.3_Hz_ws_50  &  0.00071857906268\n",
      "gyr_r_freq_weighted  &  0.000693566757748\n",
      "gyr_r_freq_2.3_Hz_ws_50  &  0.000689364507776\n",
      "gyr_r_freq_1.6_Hz_ws_50  &  0.000688969268023\n",
      "gyr_r_freq_1.0_Hz_ws_50  &  0.000679782976891\n",
      "acc_r_freq_1.6_Hz_ws_50  &  0.000678388788785\n",
      "acc_r_freq_2.2_Hz_ws_50  &  0.000676261105222\n",
      "acc_r_freq_1.9_Hz_ws_50  &  0.00060520031701\n",
      "gyr_r_freq_1.2_Hz_ws_50  &  0.000589742988901\n",
      "acc_r_freq_1.8_Hz_ws_50  &  0.000588591582286\n",
      "acc_r_freq_1.4_Hz_ws_50  &  0.000553745029088\n",
      "acc_r_max_freq  &  0.0\n",
      "gyr_r_max_freq  &  0.0\n"
     ]
    }
   ],
   "source": [
    "# Train a random forest predict class labels\n",
    "class_train_y, class_test_y, class_train_prob_y, class_test_prob_y, model = learner.random_forest(train_X[selected_features], train_y, test_X[selected_features],\n",
    "                                                                                           gridsearch=True, print_model_details=True)"
   ]
  },
  {
   "cell_type": "code",
   "execution_count": 9,
   "metadata": {
    "scrolled": true
   },
   "outputs": [
    {
     "data": {
      "image/png": "[encoded data removed]",
      "text/plain": [
       "<Figure size 432x288 with 2 Axes>"
      ]
     },
     "metadata": {
      "needs_background": "light"
     },
     "output_type": "display_data"
    }
   ],
   "source": [
    "# Performance on the test set\n",
    "test_cm = eval.confusion_matrix(test_y, class_test_y, class_train_prob_y.columns)\n",
    "DataViz.plot_confusion_matrix(test_cm, class_train_prob_y.columns, normalize=False)"
   ]
  },
  {
   "cell_type": "code",
   "execution_count": 10,
   "metadata": {},
   "outputs": [],
   "source": [
    "cm = confusion_matrix(test_y, class_test_y, class_train_prob_y.columns)\n",
    "cr = classification_report(test_y, class_test_y, class_train_prob_y.columns)\n",
    "accuracy = accuracy_score(test_y, class_test_y)"
   ]
  },
  {
   "cell_type": "code",
   "execution_count": 11,
   "metadata": {
    "scrolled": false
   },
   "outputs": [
    {
     "data": {
      "text/plain": [
       "0.97907488986784141"
      ]
     },
     "execution_count": 11,
     "metadata": {},
     "output_type": "execute_result"
    }
   ],
   "source": [
    "accuracy"
   ]
  }
 ],
 "metadata": {
  "kernelspec": {
   "display_name": "Python 2",
   "language": "python",
   "name": "python2"
  },
  "language_info": {
   "codemirror_mode": {
    "name": "ipython",
    "version": 2
   },
   "file_extension": ".py",
   "mimetype": "text/x-python",
   "name": "python",
   "nbconvert_exporter": "python",
   "pygments_lexer": "ipython2",
   "version": "2.7.15"
  }
 },
 "nbformat": 4,
 "nbformat_minor": 2
}
