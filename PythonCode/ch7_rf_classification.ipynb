{
 "cells": [
  {
   "cell_type": "markdown",
   "metadata": {},
   "source": [
    "### Mark Hoogendoorn and Burkhardt Funk (2017)              \n",
    "Machine Learning for the Quantified Self               \n",
    "Springer,\n",
    "Chapter 7    "
   ]
  },
  {
   "cell_type": "code",
   "execution_count": 11,
   "metadata": {},
   "outputs": [],
   "source": [
    "from util.VisualizeDataset import VisualizeDataset\n",
    "from Chapter7.PrepareDatasetForLearning import PrepareDatasetForLearning\n",
    "from Chapter7.LearningAlgorithms import ClassificationAlgorithms\n",
    "from Chapter7.LearningAlgorithms import RegressionAlgorithms\n",
    "from Chapter7.Evaluation import ClassificationEvaluation\n",
    "from Chapter7.Evaluation import RegressionEvaluation\n",
    "from Chapter7.FeatureSelection import FeatureSelectionClassification\n",
    "from Chapter7.FeatureSelection import FeatureSelectionRegression\n",
    "import copy\n",
    "import pandas as pd\n",
    "from util import util\n",
    "import matplotlib.pyplot as plot\n",
    "import numpy as np\n",
    "from sklearn.model_selection import train_test_split\n",
    "from sklearn.metrics import confusion_matrix\n",
    "from sklearn.metrics import classification_report\n",
    "from sklearn.metrics import accuracy_score\n",
    "from util import ClassificationReport\n",
    "import os"
   ]
  },
  {
   "cell_type": "code",
   "execution_count": 12,
   "metadata": {},
   "outputs": [],
   "source": [
    "DataViz = VisualizeDataset()\n",
    "\n",
    "# Read the result from the previous chapter, and make sure the index is of the type datetime.\n",
    "dataset_path = 'intermediate_datafiles/'\n",
    "\n",
    "export_tree_path = 'Example_graphs/Chapter7/'\n",
    "\n",
    "try:\n",
    "    dataset = pd.read_csv(dataset_path + 'chapter5_result.csv', index_col=0)\n",
    "except IOError as e:\n",
    "    print('File not found, try to run previous crowdsignals scripts first!')\n",
    "    raise e\n",
    "\n",
    "if not os.path.exists(export_tree_path):\n",
    "    os.makedirs(export_tree_path)\n",
    "\n",
    "dataset.index = pd.to_datetime(dataset.index, format='%Y-%m-%d %H:%M:%S.%f'[:-3])"
   ]
  },
  {
   "cell_type": "code",
   "execution_count": 13,
   "metadata": {},
   "outputs": [],
   "source": [
    "# Remove unnecessary columns\n",
    "del dataset['participant']\n",
    "del dataset['category']\n",
    "del dataset['set']"
   ]
  },
  {
   "cell_type": "code",
   "execution_count": 14,
   "metadata": {},
   "outputs": [
    {
     "name": "stdout",
     "output_type": "stream",
     "text": [
      "Training set length is:  4236\n",
      "Test set length is:  1816\n"
     ]
    }
   ],
   "source": [
    "# We create a single column with the categorical attribute representing our class. Furthermore, we use 70% of our data\n",
    "# for training and the remaining 30% as an independent test set. We select the sets based on stratified sampling. We remove\n",
    "# cases where we do not know the label.\n",
    "\n",
    "prepare = PrepareDatasetForLearning()\n",
    "\n",
    "train_X, test_X, train_y, test_y = prepare.split_single_dataset_classification(dataset, ['label'], 'like', 0.7, filter=True, temporal=False)\n",
    "\n",
    "print 'Training set length is: ', len(train_X.index)\n",
    "print 'Test set length is: ', len(test_X.index)"
   ]
  },
  {
   "cell_type": "code",
   "execution_count": 15,
   "metadata": {},
   "outputs": [],
   "source": [
    "# Load algorithms\n",
    "learner = ClassificationAlgorithms()\n",
    "eval = ClassificationEvaluation()"
   ]
  },
  {
   "cell_type": "code",
   "execution_count": 16,
   "metadata": {},
   "outputs": [],
   "source": [
    "selected_features = ['pca_1',\n",
    " 'gyr_r_freq_0.0_Hz_ws_50',\n",
    " 'acc_z',\n",
    " 'acc_y_temp_mean_ws_5',\n",
    " 'acc_x_temp_mean_ws_5',\n",
    " 'acc_y_temp_std_ws_5',\n",
    " 'gyr_r_freq_2.2_Hz_ws_50',\n",
    " 'gyr_r_freq_1.4_Hz_ws_50',\n",
    " 'gyr_r_freq_2.3_Hz_ws_50',\n",
    " 'acc_r_max_freq']"
   ]
  },
  {
   "cell_type": "code",
   "execution_count": 17,
   "metadata": {},
   "outputs": [
    {
     "name": "stdout",
     "output_type": "stream",
     "text": [
      "{'n_estimators': 100, 'criterion': 'entropy', 'min_samples_leaf': 2}\n",
      "Feature importance random forest:\n",
      "acc_y_temp_mean_ws_5  &  0.191510110698\n",
      "pca_1  &  0.186603612382\n",
      "acc_z  &  0.183775728331\n",
      "acc_x_temp_mean_ws_5  &  0.181683013326\n",
      "gyr_r_freq_0.0_Hz_ws_50  &  0.158245434042\n",
      "acc_y_temp_std_ws_5  &  0.0752869382808\n",
      "gyr_r_freq_1.4_Hz_ws_50  &  0.0102301310882\n",
      "gyr_r_freq_2.2_Hz_ws_50  &  0.00714183188098\n",
      "gyr_r_freq_2.3_Hz_ws_50  &  0.00552319997198\n",
      "acc_r_max_freq  &  0.0\n"
     ]
    }
   ],
   "source": [
    "# Train a random forest predict class labels\n",
    "class_train_y, class_test_y, class_train_prob_y, class_test_prob_y, model = learner.random_forest(train_X[selected_features], train_y, test_X[selected_features],\n",
    "                                                                                           gridsearch=True, print_model_details=True)"
   ]
  },
  {
   "cell_type": "code",
   "execution_count": 18,
   "metadata": {
    "scrolled": true
   },
   "outputs": [
    {
     "data": {
      "image/png": "[encoded data removed]",
      "text/plain": [
       "<Figure size 432x288 with 2 Axes>"
      ]
     },
     "metadata": {
      "needs_background": "light"
     },
     "output_type": "display_data"
    }
   ],
   "source": [
    "# Performance on the test set\n",
    "test_cm = eval.confusion_matrix(test_y, class_test_y, class_train_prob_y.columns)\n",
    "DataViz.plot_confusion_matrix(test_cm, class_train_prob_y.columns, normalize=False)"
   ]
  },
  {
   "cell_type": "code",
   "execution_count": 19,
   "metadata": {},
   "outputs": [],
   "source": [
    "cm = confusion_matrix(test_y, class_test_y, class_train_prob_y.columns)\n",
    "cr = classification_report(test_y, class_test_y, class_train_prob_y.columns)\n",
    "accuracy = accuracy_score(test_y, class_test_y)"
   ]
  },
  {
   "cell_type": "code",
   "execution_count": 20,
   "metadata": {
    "scrolled": false
   },
   "outputs": [
    {
     "data": {
      "text/plain": [
       "0.97301762114537449"
      ]
     },
     "execution_count": 20,
     "metadata": {},
     "output_type": "execute_result"
    }
   ],
   "source": [
    "accuracy"
   ]
  }
 ],
 "metadata": {
  "kernelspec": {
   "display_name": "Python 2",
   "language": "python",
   "name": "python2"
  },
  "language_info": {
   "codemirror_mode": {
    "name": "ipython",
    "version": 2
   },
   "file_extension": ".py",
   "mimetype": "text/x-python",
   "name": "python",
   "nbconvert_exporter": "python",
   "pygments_lexer": "ipython2",
   "version": "2.7.15"
  }
 },
 "nbformat": 4,
 "nbformat_minor": 2
}
